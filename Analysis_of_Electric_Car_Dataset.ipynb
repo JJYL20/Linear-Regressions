{
  "nbformat": 4,
  "nbformat_minor": 0,
  "metadata": {
    "colab": {
      "provenance": [],
      "include_colab_link": true
    },
    "kernelspec": {
      "name": "python3",
      "display_name": "Python 3"
    },
    "language_info": {
      "name": "python"
    }
  },
  "cells": [
    {
      "cell_type": "markdown",
      "metadata": {
        "id": "view-in-github",
        "colab_type": "text"
      },
      "source": [
        "<a href=\"https://colab.research.google.com/github/JJYL94/Linear-Regressions/blob/main/Analysis_of_Electric_Car_Dataset.ipynb\" target=\"_parent\"><img src=\"https://colab.research.google.com/assets/colab-badge.svg\" alt=\"Open In Colab\"/></a>"
      ]
    },
    {
      "cell_type": "markdown",
      "source": [
        "# **Analysis of Electric Car Dataset**"
      ],
      "metadata": {
        "id": "JrxF6ZOIL4rB"
      }
    },
    {
      "cell_type": "markdown",
      "source": [
        "## Analysis Approach\n",
        "---\n",
        "Problem Statement: Which combination of variables affect the price of an electric vehicle the most?\n",
        "\n",
        "* Note that the original Problem Statement stated \"Apart from Segment\", however I have decided to include this variable in the analysis for completeness\n",
        "\n",
        "Phases:\n",
        "1. Exploratory Data Analysis\n",
        "2. Data Visualisation and Correlation Mapping\n",
        "3. Linear Regression Modelling\n",
        "\n",
        "The desired outcome of this approach is to communicate key insights about the Electric Cars dataset to my non-technical audience in a concise and easy to understand manner. A couple of variables which represent the biggest drivers of price should be uncovered through this analysis.\n"
      ],
      "metadata": {
        "id": "QsroGr17MJxq"
      }
    },
    {
      "cell_type": "markdown",
      "source": [
        "# Python Packages"
      ],
      "metadata": {
        "id": "78odaR4ZNqDU"
      }
    },
    {
      "cell_type": "code",
      "source": [
        "import pandas as pd\n",
        "import seaborn as sns\n",
        "import matplotlib.pyplot as plt\n",
        "import numpy as np\n",
        "\n",
        "pd.options.display.float_format = '{:.3f}'.format"
      ],
      "metadata": {
        "id": "RHdqCluJN1Y6"
      },
      "execution_count": null,
      "outputs": []
    },
    {
      "cell_type": "markdown",
      "source": [
        "# Read and Import Data"
      ],
      "metadata": {
        "id": "tViPzNucOSMY"
      }
    },
    {
      "cell_type": "code",
      "source": [
        "from google.colab import drive\n",
        "drive.mount('/content/drive')"
      ],
      "metadata": {
        "colab": {
          "base_uri": "https://localhost:8080/"
        },
        "id": "ZWl2qYHIOWJs",
        "outputId": "faa07a32-f3fd-4100-8f67-ad822964c65b"
      },
      "execution_count": null,
      "outputs": [
        {
          "output_type": "stream",
          "name": "stdout",
          "text": [
            "Mounted at /content/drive\n"
          ]
        }
      ]
    },
    {
      "cell_type": "code",
      "source": [
        "Electric_cars = pd.read_csv(\"/content/drive/MyDrive/420047 - Python/Assessment Task 2/ElectricCarDataset.csv\")\n",
        "Electric_cars = pd.DataFrame(Electric_cars) # convert to dataframe\n",
        "Electric_cars.head()"
      ],
      "metadata": {
        "colab": {
          "base_uri": "https://localhost:8080/",
          "height": 426
        },
        "id": "hFLwegk6QTVb",
        "outputId": "113e536d-fae5-4a02-b8cd-bb828eb0e337"
      },
      "execution_count": null,
      "outputs": [
        {
          "output_type": "execute_result",
          "data": {
            "text/plain": [
              "         Brand                          Model  AccelSec  TopSpeed_KmH  \\\n",
              "0       Tesla   Model 3 Long Range Dual Motor     4.600           233   \n",
              "1  Volkswagen                       ID.3 Pure    10.000           160   \n",
              "2    Polestar                               2     4.700           210   \n",
              "3         BMW                            iX3      6.800           180   \n",
              "4       Honda                              e      9.500           145   \n",
              "\n",
              "   Range_KM  Efficiency_WhKm FastCharge_KmH RapidCharge PowerTrain  \\\n",
              "0       450              161            940         Yes        AWD   \n",
              "1       270              167            250         Yes        RWD   \n",
              "2       400              181            620         Yes        AWD   \n",
              "3       360              206            560         Yes        RWD   \n",
              "4       170              168            190         Yes        RWD   \n",
              "\n",
              "     PlugType  BodyStyle Segment  Seats  PriceEuro  \n",
              "0  Type 2 CCS      Sedan       D      5      55480  \n",
              "1  Type 2 CCS  Hatchback       C      5      30000  \n",
              "2  Type 2 CCS   Liftback       D      5      56440  \n",
              "3  Type 2 CCS        SUV       D      5      68040  \n",
              "4  Type 2 CCS  Hatchback       B      4      32997  "
            ],
            "text/html": [
              "\n",
              "  <div id=\"df-513d79ad-05a1-4569-917c-eb0748af1443\">\n",
              "    <div class=\"colab-df-container\">\n",
              "      <div>\n",
              "<style scoped>\n",
              "    .dataframe tbody tr th:only-of-type {\n",
              "        vertical-align: middle;\n",
              "    }\n",
              "\n",
              "    .dataframe tbody tr th {\n",
              "        vertical-align: top;\n",
              "    }\n",
              "\n",
              "    .dataframe thead th {\n",
              "        text-align: right;\n",
              "    }\n",
              "</style>\n",
              "<table border=\"1\" class=\"dataframe\">\n",
              "  <thead>\n",
              "    <tr style=\"text-align: right;\">\n",
              "      <th></th>\n",
              "      <th>Brand</th>\n",
              "      <th>Model</th>\n",
              "      <th>AccelSec</th>\n",
              "      <th>TopSpeed_KmH</th>\n",
              "      <th>Range_KM</th>\n",
              "      <th>Efficiency_WhKm</th>\n",
              "      <th>FastCharge_KmH</th>\n",
              "      <th>RapidCharge</th>\n",
              "      <th>PowerTrain</th>\n",
              "      <th>PlugType</th>\n",
              "      <th>BodyStyle</th>\n",
              "      <th>Segment</th>\n",
              "      <th>Seats</th>\n",
              "      <th>PriceEuro</th>\n",
              "    </tr>\n",
              "  </thead>\n",
              "  <tbody>\n",
              "    <tr>\n",
              "      <th>0</th>\n",
              "      <td>Tesla</td>\n",
              "      <td>Model 3 Long Range Dual Motor</td>\n",
              "      <td>4.600</td>\n",
              "      <td>233</td>\n",
              "      <td>450</td>\n",
              "      <td>161</td>\n",
              "      <td>940</td>\n",
              "      <td>Yes</td>\n",
              "      <td>AWD</td>\n",
              "      <td>Type 2 CCS</td>\n",
              "      <td>Sedan</td>\n",
              "      <td>D</td>\n",
              "      <td>5</td>\n",
              "      <td>55480</td>\n",
              "    </tr>\n",
              "    <tr>\n",
              "      <th>1</th>\n",
              "      <td>Volkswagen</td>\n",
              "      <td>ID.3 Pure</td>\n",
              "      <td>10.000</td>\n",
              "      <td>160</td>\n",
              "      <td>270</td>\n",
              "      <td>167</td>\n",
              "      <td>250</td>\n",
              "      <td>Yes</td>\n",
              "      <td>RWD</td>\n",
              "      <td>Type 2 CCS</td>\n",
              "      <td>Hatchback</td>\n",
              "      <td>C</td>\n",
              "      <td>5</td>\n",
              "      <td>30000</td>\n",
              "    </tr>\n",
              "    <tr>\n",
              "      <th>2</th>\n",
              "      <td>Polestar</td>\n",
              "      <td>2</td>\n",
              "      <td>4.700</td>\n",
              "      <td>210</td>\n",
              "      <td>400</td>\n",
              "      <td>181</td>\n",
              "      <td>620</td>\n",
              "      <td>Yes</td>\n",
              "      <td>AWD</td>\n",
              "      <td>Type 2 CCS</td>\n",
              "      <td>Liftback</td>\n",
              "      <td>D</td>\n",
              "      <td>5</td>\n",
              "      <td>56440</td>\n",
              "    </tr>\n",
              "    <tr>\n",
              "      <th>3</th>\n",
              "      <td>BMW</td>\n",
              "      <td>iX3</td>\n",
              "      <td>6.800</td>\n",
              "      <td>180</td>\n",
              "      <td>360</td>\n",
              "      <td>206</td>\n",
              "      <td>560</td>\n",
              "      <td>Yes</td>\n",
              "      <td>RWD</td>\n",
              "      <td>Type 2 CCS</td>\n",
              "      <td>SUV</td>\n",
              "      <td>D</td>\n",
              "      <td>5</td>\n",
              "      <td>68040</td>\n",
              "    </tr>\n",
              "    <tr>\n",
              "      <th>4</th>\n",
              "      <td>Honda</td>\n",
              "      <td>e</td>\n",
              "      <td>9.500</td>\n",
              "      <td>145</td>\n",
              "      <td>170</td>\n",
              "      <td>168</td>\n",
              "      <td>190</td>\n",
              "      <td>Yes</td>\n",
              "      <td>RWD</td>\n",
              "      <td>Type 2 CCS</td>\n",
              "      <td>Hatchback</td>\n",
              "      <td>B</td>\n",
              "      <td>4</td>\n",
              "      <td>32997</td>\n",
              "    </tr>\n",
              "  </tbody>\n",
              "</table>\n",
              "</div>\n",
              "      <button class=\"colab-df-convert\" onclick=\"convertToInteractive('df-513d79ad-05a1-4569-917c-eb0748af1443')\"\n",
              "              title=\"Convert this dataframe to an interactive table.\"\n",
              "              style=\"display:none;\">\n",
              "        \n",
              "  <svg xmlns=\"http://www.w3.org/2000/svg\" height=\"24px\"viewBox=\"0 0 24 24\"\n",
              "       width=\"24px\">\n",
              "    <path d=\"M0 0h24v24H0V0z\" fill=\"none\"/>\n",
              "    <path d=\"M18.56 5.44l.94 2.06.94-2.06 2.06-.94-2.06-.94-.94-2.06-.94 2.06-2.06.94zm-11 1L8.5 8.5l.94-2.06 2.06-.94-2.06-.94L8.5 2.5l-.94 2.06-2.06.94zm10 10l.94 2.06.94-2.06 2.06-.94-2.06-.94-.94-2.06-.94 2.06-2.06.94z\"/><path d=\"M17.41 7.96l-1.37-1.37c-.4-.4-.92-.59-1.43-.59-.52 0-1.04.2-1.43.59L10.3 9.45l-7.72 7.72c-.78.78-.78 2.05 0 2.83L4 21.41c.39.39.9.59 1.41.59.51 0 1.02-.2 1.41-.59l7.78-7.78 2.81-2.81c.8-.78.8-2.07 0-2.86zM5.41 20L4 18.59l7.72-7.72 1.47 1.35L5.41 20z\"/>\n",
              "  </svg>\n",
              "      </button>\n",
              "      \n",
              "  <style>\n",
              "    .colab-df-container {\n",
              "      display:flex;\n",
              "      flex-wrap:wrap;\n",
              "      gap: 12px;\n",
              "    }\n",
              "\n",
              "    .colab-df-convert {\n",
              "      background-color: #E8F0FE;\n",
              "      border: none;\n",
              "      border-radius: 50%;\n",
              "      cursor: pointer;\n",
              "      display: none;\n",
              "      fill: #1967D2;\n",
              "      height: 32px;\n",
              "      padding: 0 0 0 0;\n",
              "      width: 32px;\n",
              "    }\n",
              "\n",
              "    .colab-df-convert:hover {\n",
              "      background-color: #E2EBFA;\n",
              "      box-shadow: 0px 1px 2px rgba(60, 64, 67, 0.3), 0px 1px 3px 1px rgba(60, 64, 67, 0.15);\n",
              "      fill: #174EA6;\n",
              "    }\n",
              "\n",
              "    [theme=dark] .colab-df-convert {\n",
              "      background-color: #3B4455;\n",
              "      fill: #D2E3FC;\n",
              "    }\n",
              "\n",
              "    [theme=dark] .colab-df-convert:hover {\n",
              "      background-color: #434B5C;\n",
              "      box-shadow: 0px 1px 3px 1px rgba(0, 0, 0, 0.15);\n",
              "      filter: drop-shadow(0px 1px 2px rgba(0, 0, 0, 0.3));\n",
              "      fill: #FFFFFF;\n",
              "    }\n",
              "  </style>\n",
              "\n",
              "      <script>\n",
              "        const buttonEl =\n",
              "          document.querySelector('#df-513d79ad-05a1-4569-917c-eb0748af1443 button.colab-df-convert');\n",
              "        buttonEl.style.display =\n",
              "          google.colab.kernel.accessAllowed ? 'block' : 'none';\n",
              "\n",
              "        async function convertToInteractive(key) {\n",
              "          const element = document.querySelector('#df-513d79ad-05a1-4569-917c-eb0748af1443');\n",
              "          const dataTable =\n",
              "            await google.colab.kernel.invokeFunction('convertToInteractive',\n",
              "                                                     [key], {});\n",
              "          if (!dataTable) return;\n",
              "\n",
              "          const docLinkHtml = 'Like what you see? Visit the ' +\n",
              "            '<a target=\"_blank\" href=https://colab.research.google.com/notebooks/data_table.ipynb>data table notebook</a>'\n",
              "            + ' to learn more about interactive tables.';\n",
              "          element.innerHTML = '';\n",
              "          dataTable['output_type'] = 'display_data';\n",
              "          await google.colab.output.renderOutput(dataTable, element);\n",
              "          const docLink = document.createElement('div');\n",
              "          docLink.innerHTML = docLinkHtml;\n",
              "          element.appendChild(docLink);\n",
              "        }\n",
              "      </script>\n",
              "    </div>\n",
              "  </div>\n",
              "  "
            ]
          },
          "metadata": {},
          "execution_count": 3
        }
      ]
    },
    {
      "cell_type": "code",
      "source": [
        "Electric_cars.tail()"
      ],
      "metadata": {
        "colab": {
          "base_uri": "https://localhost:8080/",
          "height": 426
        },
        "id": "QY0SjUhFQ0In",
        "outputId": "c82ab4c5-26be-4eb2-f343-acdc587aa7b9"
      },
      "execution_count": null,
      "outputs": [
        {
          "output_type": "execute_result",
          "data": {
            "text/plain": [
              "       Brand                            Model  AccelSec  TopSpeed_KmH  \\\n",
              "98   Nissan                       Ariya 63kWh     7.500           160   \n",
              "99     Audi     e-tron S Sportback 55 quattro     4.500           210   \n",
              "100  Nissan               Ariya e-4ORCE 63kWh     5.900           200   \n",
              "101  Nissan   Ariya e-4ORCE 87kWh Performance     5.100           200   \n",
              "102   Byton                 M-Byte 95 kWh 2WD     7.500           190   \n",
              "\n",
              "     Range_KM  Efficiency_WhKm FastCharge_KmH RapidCharge PowerTrain  \\\n",
              "98        330              191            440         Yes        FWD   \n",
              "99        335              258            540         Yes        AWD   \n",
              "100       325              194            440         Yes        AWD   \n",
              "101       375              232            450         Yes        AWD   \n",
              "102       400              238            480         Yes        AWD   \n",
              "\n",
              "       PlugType  BodyStyle Segment  Seats  PriceEuro  \n",
              "98   Type 2 CCS  Hatchback       C      5      45000  \n",
              "99   Type 2 CCS        SUV       E      5      96050  \n",
              "100  Type 2 CCS  Hatchback       C      5      50000  \n",
              "101  Type 2 CCS  Hatchback       C      5      65000  \n",
              "102  Type 2 CCS        SUV       E      5      62000  "
            ],
            "text/html": [
              "\n",
              "  <div id=\"df-9458436e-8dc6-435e-9dc8-9e3266e68163\">\n",
              "    <div class=\"colab-df-container\">\n",
              "      <div>\n",
              "<style scoped>\n",
              "    .dataframe tbody tr th:only-of-type {\n",
              "        vertical-align: middle;\n",
              "    }\n",
              "\n",
              "    .dataframe tbody tr th {\n",
              "        vertical-align: top;\n",
              "    }\n",
              "\n",
              "    .dataframe thead th {\n",
              "        text-align: right;\n",
              "    }\n",
              "</style>\n",
              "<table border=\"1\" class=\"dataframe\">\n",
              "  <thead>\n",
              "    <tr style=\"text-align: right;\">\n",
              "      <th></th>\n",
              "      <th>Brand</th>\n",
              "      <th>Model</th>\n",
              "      <th>AccelSec</th>\n",
              "      <th>TopSpeed_KmH</th>\n",
              "      <th>Range_KM</th>\n",
              "      <th>Efficiency_WhKm</th>\n",
              "      <th>FastCharge_KmH</th>\n",
              "      <th>RapidCharge</th>\n",
              "      <th>PowerTrain</th>\n",
              "      <th>PlugType</th>\n",
              "      <th>BodyStyle</th>\n",
              "      <th>Segment</th>\n",
              "      <th>Seats</th>\n",
              "      <th>PriceEuro</th>\n",
              "    </tr>\n",
              "  </thead>\n",
              "  <tbody>\n",
              "    <tr>\n",
              "      <th>98</th>\n",
              "      <td>Nissan</td>\n",
              "      <td>Ariya 63kWh</td>\n",
              "      <td>7.500</td>\n",
              "      <td>160</td>\n",
              "      <td>330</td>\n",
              "      <td>191</td>\n",
              "      <td>440</td>\n",
              "      <td>Yes</td>\n",
              "      <td>FWD</td>\n",
              "      <td>Type 2 CCS</td>\n",
              "      <td>Hatchback</td>\n",
              "      <td>C</td>\n",
              "      <td>5</td>\n",
              "      <td>45000</td>\n",
              "    </tr>\n",
              "    <tr>\n",
              "      <th>99</th>\n",
              "      <td>Audi</td>\n",
              "      <td>e-tron S Sportback 55 quattro</td>\n",
              "      <td>4.500</td>\n",
              "      <td>210</td>\n",
              "      <td>335</td>\n",
              "      <td>258</td>\n",
              "      <td>540</td>\n",
              "      <td>Yes</td>\n",
              "      <td>AWD</td>\n",
              "      <td>Type 2 CCS</td>\n",
              "      <td>SUV</td>\n",
              "      <td>E</td>\n",
              "      <td>5</td>\n",
              "      <td>96050</td>\n",
              "    </tr>\n",
              "    <tr>\n",
              "      <th>100</th>\n",
              "      <td>Nissan</td>\n",
              "      <td>Ariya e-4ORCE 63kWh</td>\n",
              "      <td>5.900</td>\n",
              "      <td>200</td>\n",
              "      <td>325</td>\n",
              "      <td>194</td>\n",
              "      <td>440</td>\n",
              "      <td>Yes</td>\n",
              "      <td>AWD</td>\n",
              "      <td>Type 2 CCS</td>\n",
              "      <td>Hatchback</td>\n",
              "      <td>C</td>\n",
              "      <td>5</td>\n",
              "      <td>50000</td>\n",
              "    </tr>\n",
              "    <tr>\n",
              "      <th>101</th>\n",
              "      <td>Nissan</td>\n",
              "      <td>Ariya e-4ORCE 87kWh Performance</td>\n",
              "      <td>5.100</td>\n",
              "      <td>200</td>\n",
              "      <td>375</td>\n",
              "      <td>232</td>\n",
              "      <td>450</td>\n",
              "      <td>Yes</td>\n",
              "      <td>AWD</td>\n",
              "      <td>Type 2 CCS</td>\n",
              "      <td>Hatchback</td>\n",
              "      <td>C</td>\n",
              "      <td>5</td>\n",
              "      <td>65000</td>\n",
              "    </tr>\n",
              "    <tr>\n",
              "      <th>102</th>\n",
              "      <td>Byton</td>\n",
              "      <td>M-Byte 95 kWh 2WD</td>\n",
              "      <td>7.500</td>\n",
              "      <td>190</td>\n",
              "      <td>400</td>\n",
              "      <td>238</td>\n",
              "      <td>480</td>\n",
              "      <td>Yes</td>\n",
              "      <td>AWD</td>\n",
              "      <td>Type 2 CCS</td>\n",
              "      <td>SUV</td>\n",
              "      <td>E</td>\n",
              "      <td>5</td>\n",
              "      <td>62000</td>\n",
              "    </tr>\n",
              "  </tbody>\n",
              "</table>\n",
              "</div>\n",
              "      <button class=\"colab-df-convert\" onclick=\"convertToInteractive('df-9458436e-8dc6-435e-9dc8-9e3266e68163')\"\n",
              "              title=\"Convert this dataframe to an interactive table.\"\n",
              "              style=\"display:none;\">\n",
              "        \n",
              "  <svg xmlns=\"http://www.w3.org/2000/svg\" height=\"24px\"viewBox=\"0 0 24 24\"\n",
              "       width=\"24px\">\n",
              "    <path d=\"M0 0h24v24H0V0z\" fill=\"none\"/>\n",
              "    <path d=\"M18.56 5.44l.94 2.06.94-2.06 2.06-.94-2.06-.94-.94-2.06-.94 2.06-2.06.94zm-11 1L8.5 8.5l.94-2.06 2.06-.94-2.06-.94L8.5 2.5l-.94 2.06-2.06.94zm10 10l.94 2.06.94-2.06 2.06-.94-2.06-.94-.94-2.06-.94 2.06-2.06.94z\"/><path d=\"M17.41 7.96l-1.37-1.37c-.4-.4-.92-.59-1.43-.59-.52 0-1.04.2-1.43.59L10.3 9.45l-7.72 7.72c-.78.78-.78 2.05 0 2.83L4 21.41c.39.39.9.59 1.41.59.51 0 1.02-.2 1.41-.59l7.78-7.78 2.81-2.81c.8-.78.8-2.07 0-2.86zM5.41 20L4 18.59l7.72-7.72 1.47 1.35L5.41 20z\"/>\n",
              "  </svg>\n",
              "      </button>\n",
              "      \n",
              "  <style>\n",
              "    .colab-df-container {\n",
              "      display:flex;\n",
              "      flex-wrap:wrap;\n",
              "      gap: 12px;\n",
              "    }\n",
              "\n",
              "    .colab-df-convert {\n",
              "      background-color: #E8F0FE;\n",
              "      border: none;\n",
              "      border-radius: 50%;\n",
              "      cursor: pointer;\n",
              "      display: none;\n",
              "      fill: #1967D2;\n",
              "      height: 32px;\n",
              "      padding: 0 0 0 0;\n",
              "      width: 32px;\n",
              "    }\n",
              "\n",
              "    .colab-df-convert:hover {\n",
              "      background-color: #E2EBFA;\n",
              "      box-shadow: 0px 1px 2px rgba(60, 64, 67, 0.3), 0px 1px 3px 1px rgba(60, 64, 67, 0.15);\n",
              "      fill: #174EA6;\n",
              "    }\n",
              "\n",
              "    [theme=dark] .colab-df-convert {\n",
              "      background-color: #3B4455;\n",
              "      fill: #D2E3FC;\n",
              "    }\n",
              "\n",
              "    [theme=dark] .colab-df-convert:hover {\n",
              "      background-color: #434B5C;\n",
              "      box-shadow: 0px 1px 3px 1px rgba(0, 0, 0, 0.15);\n",
              "      filter: drop-shadow(0px 1px 2px rgba(0, 0, 0, 0.3));\n",
              "      fill: #FFFFFF;\n",
              "    }\n",
              "  </style>\n",
              "\n",
              "      <script>\n",
              "        const buttonEl =\n",
              "          document.querySelector('#df-9458436e-8dc6-435e-9dc8-9e3266e68163 button.colab-df-convert');\n",
              "        buttonEl.style.display =\n",
              "          google.colab.kernel.accessAllowed ? 'block' : 'none';\n",
              "\n",
              "        async function convertToInteractive(key) {\n",
              "          const element = document.querySelector('#df-9458436e-8dc6-435e-9dc8-9e3266e68163');\n",
              "          const dataTable =\n",
              "            await google.colab.kernel.invokeFunction('convertToInteractive',\n",
              "                                                     [key], {});\n",
              "          if (!dataTable) return;\n",
              "\n",
              "          const docLinkHtml = 'Like what you see? Visit the ' +\n",
              "            '<a target=\"_blank\" href=https://colab.research.google.com/notebooks/data_table.ipynb>data table notebook</a>'\n",
              "            + ' to learn more about interactive tables.';\n",
              "          element.innerHTML = '';\n",
              "          dataTable['output_type'] = 'display_data';\n",
              "          await google.colab.output.renderOutput(dataTable, element);\n",
              "          const docLink = document.createElement('div');\n",
              "          docLink.innerHTML = docLinkHtml;\n",
              "          element.appendChild(docLink);\n",
              "        }\n",
              "      </script>\n",
              "    </div>\n",
              "  </div>\n",
              "  "
            ]
          },
          "metadata": {},
          "execution_count": 4
        }
      ]
    },
    {
      "cell_type": "code",
      "source": [
        "Electric_cars.shape "
      ],
      "metadata": {
        "colab": {
          "base_uri": "https://localhost:8080/"
        },
        "id": "kUdn6avJQ3MR",
        "outputId": "eb46f8f1-e38c-4874-cba8-e0adf3a4a06a"
      },
      "execution_count": null,
      "outputs": [
        {
          "output_type": "execute_result",
          "data": {
            "text/plain": [
              "(103, 14)"
            ]
          },
          "metadata": {},
          "execution_count": 5
        }
      ]
    },
    {
      "cell_type": "markdown",
      "source": [
        "103 observations (rows) and 14 attributes (columns) are present in the imported dataset"
      ],
      "metadata": {
        "id": "ROzySoUhRE6R"
      }
    },
    {
      "cell_type": "code",
      "source": [
        "Electric_cars.info()"
      ],
      "metadata": {
        "colab": {
          "base_uri": "https://localhost:8080/"
        },
        "id": "_s1SE0Y8RMBQ",
        "outputId": "b62f40ce-f398-436d-e320-f738d98dbb1f"
      },
      "execution_count": null,
      "outputs": [
        {
          "output_type": "stream",
          "name": "stdout",
          "text": [
            "<class 'pandas.core.frame.DataFrame'>\n",
            "RangeIndex: 103 entries, 0 to 102\n",
            "Data columns (total 14 columns):\n",
            " #   Column           Non-Null Count  Dtype  \n",
            "---  ------           --------------  -----  \n",
            " 0   Brand            103 non-null    object \n",
            " 1   Model            103 non-null    object \n",
            " 2   AccelSec         103 non-null    float64\n",
            " 3   TopSpeed_KmH     103 non-null    int64  \n",
            " 4   Range_KM         103 non-null    int64  \n",
            " 5   Efficiency_WhKm  103 non-null    int64  \n",
            " 6   FastCharge_KmH   103 non-null    object \n",
            " 7   RapidCharge      103 non-null    object \n",
            " 8   PowerTrain       103 non-null    object \n",
            " 9   PlugType         103 non-null    object \n",
            " 10  BodyStyle        103 non-null    object \n",
            " 11  Segment          103 non-null    object \n",
            " 12  Seats            103 non-null    int64  \n",
            " 13  PriceEuro        103 non-null    int64  \n",
            "dtypes: float64(1), int64(5), object(8)\n",
            "memory usage: 11.4+ KB\n"
          ]
        }
      ]
    },
    {
      "cell_type": "markdown",
      "source": [
        "All rows under attributes appear to be filled."
      ],
      "metadata": {
        "id": "Y8k4s1yES55z"
      }
    },
    {
      "cell_type": "markdown",
      "source": [
        "# Checking for Null Values"
      ],
      "metadata": {
        "id": "0-7Gf990Rbqi"
      }
    },
    {
      "cell_type": "code",
      "source": [
        "Electric_cars.isnull().sum()"
      ],
      "metadata": {
        "colab": {
          "base_uri": "https://localhost:8080/"
        },
        "id": "p1CSsYOARfer",
        "outputId": "b390d831-7e9a-4241-a06e-3f45791a8185"
      },
      "execution_count": null,
      "outputs": [
        {
          "output_type": "execute_result",
          "data": {
            "text/plain": [
              "Brand              0\n",
              "Model              0\n",
              "AccelSec           0\n",
              "TopSpeed_KmH       0\n",
              "Range_KM           0\n",
              "Efficiency_WhKm    0\n",
              "FastCharge_KmH     0\n",
              "RapidCharge        0\n",
              "PowerTrain         0\n",
              "PlugType           0\n",
              "BodyStyle          0\n",
              "Segment            0\n",
              "Seats              0\n",
              "PriceEuro          0\n",
              "dtype: int64"
            ]
          },
          "metadata": {},
          "execution_count": 7
        }
      ]
    },
    {
      "cell_type": "markdown",
      "source": [
        "# Checking for Missing Values/Dashes"
      ],
      "metadata": {
        "id": "ha8gR6hURqI9"
      }
    },
    {
      "cell_type": "code",
      "source": [
        "PriceEuro_missing = Electric_cars['PriceEuro'].isna() # Check for missing values in key attribute: PriceEuro\n",
        "Electric_cars.loc[PriceEuro_missing,:]"
      ],
      "metadata": {
        "colab": {
          "base_uri": "https://localhost:8080/",
          "height": 113
        },
        "id": "C4QT_hCyRvL-",
        "outputId": "aed5587d-37c9-457c-8b63-e8bd881b1251"
      },
      "execution_count": null,
      "outputs": [
        {
          "output_type": "execute_result",
          "data": {
            "text/plain": [
              "Empty DataFrame\n",
              "Columns: [Brand, Model, AccelSec, TopSpeed_KmH, Range_KM, Efficiency_WhKm, FastCharge_KmH, RapidCharge, PowerTrain, PlugType, BodyStyle, Segment, Seats, PriceEuro]\n",
              "Index: []"
            ],
            "text/html": [
              "\n",
              "  <div id=\"df-7b3c3b0c-9161-492b-9538-4f06b7e11a2b\">\n",
              "    <div class=\"colab-df-container\">\n",
              "      <div>\n",
              "<style scoped>\n",
              "    .dataframe tbody tr th:only-of-type {\n",
              "        vertical-align: middle;\n",
              "    }\n",
              "\n",
              "    .dataframe tbody tr th {\n",
              "        vertical-align: top;\n",
              "    }\n",
              "\n",
              "    .dataframe thead th {\n",
              "        text-align: right;\n",
              "    }\n",
              "</style>\n",
              "<table border=\"1\" class=\"dataframe\">\n",
              "  <thead>\n",
              "    <tr style=\"text-align: right;\">\n",
              "      <th></th>\n",
              "      <th>Brand</th>\n",
              "      <th>Model</th>\n",
              "      <th>AccelSec</th>\n",
              "      <th>TopSpeed_KmH</th>\n",
              "      <th>Range_KM</th>\n",
              "      <th>Efficiency_WhKm</th>\n",
              "      <th>FastCharge_KmH</th>\n",
              "      <th>RapidCharge</th>\n",
              "      <th>PowerTrain</th>\n",
              "      <th>PlugType</th>\n",
              "      <th>BodyStyle</th>\n",
              "      <th>Segment</th>\n",
              "      <th>Seats</th>\n",
              "      <th>PriceEuro</th>\n",
              "    </tr>\n",
              "  </thead>\n",
              "  <tbody>\n",
              "  </tbody>\n",
              "</table>\n",
              "</div>\n",
              "      <button class=\"colab-df-convert\" onclick=\"convertToInteractive('df-7b3c3b0c-9161-492b-9538-4f06b7e11a2b')\"\n",
              "              title=\"Convert this dataframe to an interactive table.\"\n",
              "              style=\"display:none;\">\n",
              "        \n",
              "  <svg xmlns=\"http://www.w3.org/2000/svg\" height=\"24px\"viewBox=\"0 0 24 24\"\n",
              "       width=\"24px\">\n",
              "    <path d=\"M0 0h24v24H0V0z\" fill=\"none\"/>\n",
              "    <path d=\"M18.56 5.44l.94 2.06.94-2.06 2.06-.94-2.06-.94-.94-2.06-.94 2.06-2.06.94zm-11 1L8.5 8.5l.94-2.06 2.06-.94-2.06-.94L8.5 2.5l-.94 2.06-2.06.94zm10 10l.94 2.06.94-2.06 2.06-.94-2.06-.94-.94-2.06-.94 2.06-2.06.94z\"/><path d=\"M17.41 7.96l-1.37-1.37c-.4-.4-.92-.59-1.43-.59-.52 0-1.04.2-1.43.59L10.3 9.45l-7.72 7.72c-.78.78-.78 2.05 0 2.83L4 21.41c.39.39.9.59 1.41.59.51 0 1.02-.2 1.41-.59l7.78-7.78 2.81-2.81c.8-.78.8-2.07 0-2.86zM5.41 20L4 18.59l7.72-7.72 1.47 1.35L5.41 20z\"/>\n",
              "  </svg>\n",
              "      </button>\n",
              "      \n",
              "  <style>\n",
              "    .colab-df-container {\n",
              "      display:flex;\n",
              "      flex-wrap:wrap;\n",
              "      gap: 12px;\n",
              "    }\n",
              "\n",
              "    .colab-df-convert {\n",
              "      background-color: #E8F0FE;\n",
              "      border: none;\n",
              "      border-radius: 50%;\n",
              "      cursor: pointer;\n",
              "      display: none;\n",
              "      fill: #1967D2;\n",
              "      height: 32px;\n",
              "      padding: 0 0 0 0;\n",
              "      width: 32px;\n",
              "    }\n",
              "\n",
              "    .colab-df-convert:hover {\n",
              "      background-color: #E2EBFA;\n",
              "      box-shadow: 0px 1px 2px rgba(60, 64, 67, 0.3), 0px 1px 3px 1px rgba(60, 64, 67, 0.15);\n",
              "      fill: #174EA6;\n",
              "    }\n",
              "\n",
              "    [theme=dark] .colab-df-convert {\n",
              "      background-color: #3B4455;\n",
              "      fill: #D2E3FC;\n",
              "    }\n",
              "\n",
              "    [theme=dark] .colab-df-convert:hover {\n",
              "      background-color: #434B5C;\n",
              "      box-shadow: 0px 1px 3px 1px rgba(0, 0, 0, 0.15);\n",
              "      filter: drop-shadow(0px 1px 2px rgba(0, 0, 0, 0.3));\n",
              "      fill: #FFFFFF;\n",
              "    }\n",
              "  </style>\n",
              "\n",
              "      <script>\n",
              "        const buttonEl =\n",
              "          document.querySelector('#df-7b3c3b0c-9161-492b-9538-4f06b7e11a2b button.colab-df-convert');\n",
              "        buttonEl.style.display =\n",
              "          google.colab.kernel.accessAllowed ? 'block' : 'none';\n",
              "\n",
              "        async function convertToInteractive(key) {\n",
              "          const element = document.querySelector('#df-7b3c3b0c-9161-492b-9538-4f06b7e11a2b');\n",
              "          const dataTable =\n",
              "            await google.colab.kernel.invokeFunction('convertToInteractive',\n",
              "                                                     [key], {});\n",
              "          if (!dataTable) return;\n",
              "\n",
              "          const docLinkHtml = 'Like what you see? Visit the ' +\n",
              "            '<a target=\"_blank\" href=https://colab.research.google.com/notebooks/data_table.ipynb>data table notebook</a>'\n",
              "            + ' to learn more about interactive tables.';\n",
              "          element.innerHTML = '';\n",
              "          dataTable['output_type'] = 'display_data';\n",
              "          await google.colab.output.renderOutput(dataTable, element);\n",
              "          const docLink = document.createElement('div');\n",
              "          docLink.innerHTML = docLinkHtml;\n",
              "          element.appendChild(docLink);\n",
              "        }\n",
              "      </script>\n",
              "    </div>\n",
              "  </div>\n",
              "  "
            ]
          },
          "metadata": {},
          "execution_count": 8
        }
      ]
    },
    {
      "cell_type": "markdown",
      "source": [
        "No missing values in our key attribute/dependent variable: PriceEuro"
      ],
      "metadata": {
        "id": "XSe1V4O6TeNX"
      }
    },
    {
      "cell_type": "markdown",
      "source": [
        "While there appears to be no missing values in the overall dataset, I have noticed a few hyphens/dashes ('-') in the FastCharge_KmH column from initial perusal:\n",
        "\n",
        "\n",
        "\n",
        "\n",
        "\n"
      ],
      "metadata": {
        "id": "6v3XCgrPdinX"
      }
    },
    {
      "cell_type": "code",
      "source": [
        "Electric_cars.loc[Electric_cars['FastCharge_KmH'] == '-']"
      ],
      "metadata": {
        "colab": {
          "base_uri": "https://localhost:8080/",
          "height": 409
        },
        "id": "ZAGAX6DDio9A",
        "outputId": "ddbf2371-d592-4263-8daf-0f4acf584212"
      },
      "execution_count": null,
      "outputs": [
        {
          "output_type": "execute_result",
          "data": {
            "text/plain": [
              "       Brand              Model  AccelSec  TopSpeed_KmH  Range_KM  \\\n",
              "57  Renault           Twingo ZE    12.600           135       130   \n",
              "68  Renault   Kangoo Maxi ZE 33    22.400           130       160   \n",
              "77    Smart         EQ forfour     12.700           130        95   \n",
              "82    Smart     EQ fortwo coupe    11.600           130       100   \n",
              "91    Smart    EQ fortwo cabrio    11.900           130        95   \n",
              "\n",
              "    Efficiency_WhKm FastCharge_KmH RapidCharge PowerTrain PlugType  BodyStyle  \\\n",
              "57              164              -          No        RWD   Type 2  Hatchback   \n",
              "68              194              -          No        FWD   Type 2        SPV   \n",
              "77              176              -          No        RWD   Type 2  Hatchback   \n",
              "82              167              -          No        RWD   Type 2  Hatchback   \n",
              "91              176              -          No        RWD   Type 2     Cabrio   \n",
              "\n",
              "   Segment  Seats  PriceEuro  \n",
              "57       A      4      24790  \n",
              "68       N      5      38000  \n",
              "77       A      4      22030  \n",
              "82       A      2      21387  \n",
              "91       A      2      24565  "
            ],
            "text/html": [
              "\n",
              "  <div id=\"df-94c06a1a-a931-4a0a-813d-2b79a0779199\">\n",
              "    <div class=\"colab-df-container\">\n",
              "      <div>\n",
              "<style scoped>\n",
              "    .dataframe tbody tr th:only-of-type {\n",
              "        vertical-align: middle;\n",
              "    }\n",
              "\n",
              "    .dataframe tbody tr th {\n",
              "        vertical-align: top;\n",
              "    }\n",
              "\n",
              "    .dataframe thead th {\n",
              "        text-align: right;\n",
              "    }\n",
              "</style>\n",
              "<table border=\"1\" class=\"dataframe\">\n",
              "  <thead>\n",
              "    <tr style=\"text-align: right;\">\n",
              "      <th></th>\n",
              "      <th>Brand</th>\n",
              "      <th>Model</th>\n",
              "      <th>AccelSec</th>\n",
              "      <th>TopSpeed_KmH</th>\n",
              "      <th>Range_KM</th>\n",
              "      <th>Efficiency_WhKm</th>\n",
              "      <th>FastCharge_KmH</th>\n",
              "      <th>RapidCharge</th>\n",
              "      <th>PowerTrain</th>\n",
              "      <th>PlugType</th>\n",
              "      <th>BodyStyle</th>\n",
              "      <th>Segment</th>\n",
              "      <th>Seats</th>\n",
              "      <th>PriceEuro</th>\n",
              "    </tr>\n",
              "  </thead>\n",
              "  <tbody>\n",
              "    <tr>\n",
              "      <th>57</th>\n",
              "      <td>Renault</td>\n",
              "      <td>Twingo ZE</td>\n",
              "      <td>12.600</td>\n",
              "      <td>135</td>\n",
              "      <td>130</td>\n",
              "      <td>164</td>\n",
              "      <td>-</td>\n",
              "      <td>No</td>\n",
              "      <td>RWD</td>\n",
              "      <td>Type 2</td>\n",
              "      <td>Hatchback</td>\n",
              "      <td>A</td>\n",
              "      <td>4</td>\n",
              "      <td>24790</td>\n",
              "    </tr>\n",
              "    <tr>\n",
              "      <th>68</th>\n",
              "      <td>Renault</td>\n",
              "      <td>Kangoo Maxi ZE 33</td>\n",
              "      <td>22.400</td>\n",
              "      <td>130</td>\n",
              "      <td>160</td>\n",
              "      <td>194</td>\n",
              "      <td>-</td>\n",
              "      <td>No</td>\n",
              "      <td>FWD</td>\n",
              "      <td>Type 2</td>\n",
              "      <td>SPV</td>\n",
              "      <td>N</td>\n",
              "      <td>5</td>\n",
              "      <td>38000</td>\n",
              "    </tr>\n",
              "    <tr>\n",
              "      <th>77</th>\n",
              "      <td>Smart</td>\n",
              "      <td>EQ forfour</td>\n",
              "      <td>12.700</td>\n",
              "      <td>130</td>\n",
              "      <td>95</td>\n",
              "      <td>176</td>\n",
              "      <td>-</td>\n",
              "      <td>No</td>\n",
              "      <td>RWD</td>\n",
              "      <td>Type 2</td>\n",
              "      <td>Hatchback</td>\n",
              "      <td>A</td>\n",
              "      <td>4</td>\n",
              "      <td>22030</td>\n",
              "    </tr>\n",
              "    <tr>\n",
              "      <th>82</th>\n",
              "      <td>Smart</td>\n",
              "      <td>EQ fortwo coupe</td>\n",
              "      <td>11.600</td>\n",
              "      <td>130</td>\n",
              "      <td>100</td>\n",
              "      <td>167</td>\n",
              "      <td>-</td>\n",
              "      <td>No</td>\n",
              "      <td>RWD</td>\n",
              "      <td>Type 2</td>\n",
              "      <td>Hatchback</td>\n",
              "      <td>A</td>\n",
              "      <td>2</td>\n",
              "      <td>21387</td>\n",
              "    </tr>\n",
              "    <tr>\n",
              "      <th>91</th>\n",
              "      <td>Smart</td>\n",
              "      <td>EQ fortwo cabrio</td>\n",
              "      <td>11.900</td>\n",
              "      <td>130</td>\n",
              "      <td>95</td>\n",
              "      <td>176</td>\n",
              "      <td>-</td>\n",
              "      <td>No</td>\n",
              "      <td>RWD</td>\n",
              "      <td>Type 2</td>\n",
              "      <td>Cabrio</td>\n",
              "      <td>A</td>\n",
              "      <td>2</td>\n",
              "      <td>24565</td>\n",
              "    </tr>\n",
              "  </tbody>\n",
              "</table>\n",
              "</div>\n",
              "      <button class=\"colab-df-convert\" onclick=\"convertToInteractive('df-94c06a1a-a931-4a0a-813d-2b79a0779199')\"\n",
              "              title=\"Convert this dataframe to an interactive table.\"\n",
              "              style=\"display:none;\">\n",
              "        \n",
              "  <svg xmlns=\"http://www.w3.org/2000/svg\" height=\"24px\"viewBox=\"0 0 24 24\"\n",
              "       width=\"24px\">\n",
              "    <path d=\"M0 0h24v24H0V0z\" fill=\"none\"/>\n",
              "    <path d=\"M18.56 5.44l.94 2.06.94-2.06 2.06-.94-2.06-.94-.94-2.06-.94 2.06-2.06.94zm-11 1L8.5 8.5l.94-2.06 2.06-.94-2.06-.94L8.5 2.5l-.94 2.06-2.06.94zm10 10l.94 2.06.94-2.06 2.06-.94-2.06-.94-.94-2.06-.94 2.06-2.06.94z\"/><path d=\"M17.41 7.96l-1.37-1.37c-.4-.4-.92-.59-1.43-.59-.52 0-1.04.2-1.43.59L10.3 9.45l-7.72 7.72c-.78.78-.78 2.05 0 2.83L4 21.41c.39.39.9.59 1.41.59.51 0 1.02-.2 1.41-.59l7.78-7.78 2.81-2.81c.8-.78.8-2.07 0-2.86zM5.41 20L4 18.59l7.72-7.72 1.47 1.35L5.41 20z\"/>\n",
              "  </svg>\n",
              "      </button>\n",
              "      \n",
              "  <style>\n",
              "    .colab-df-container {\n",
              "      display:flex;\n",
              "      flex-wrap:wrap;\n",
              "      gap: 12px;\n",
              "    }\n",
              "\n",
              "    .colab-df-convert {\n",
              "      background-color: #E8F0FE;\n",
              "      border: none;\n",
              "      border-radius: 50%;\n",
              "      cursor: pointer;\n",
              "      display: none;\n",
              "      fill: #1967D2;\n",
              "      height: 32px;\n",
              "      padding: 0 0 0 0;\n",
              "      width: 32px;\n",
              "    }\n",
              "\n",
              "    .colab-df-convert:hover {\n",
              "      background-color: #E2EBFA;\n",
              "      box-shadow: 0px 1px 2px rgba(60, 64, 67, 0.3), 0px 1px 3px 1px rgba(60, 64, 67, 0.15);\n",
              "      fill: #174EA6;\n",
              "    }\n",
              "\n",
              "    [theme=dark] .colab-df-convert {\n",
              "      background-color: #3B4455;\n",
              "      fill: #D2E3FC;\n",
              "    }\n",
              "\n",
              "    [theme=dark] .colab-df-convert:hover {\n",
              "      background-color: #434B5C;\n",
              "      box-shadow: 0px 1px 3px 1px rgba(0, 0, 0, 0.15);\n",
              "      filter: drop-shadow(0px 1px 2px rgba(0, 0, 0, 0.3));\n",
              "      fill: #FFFFFF;\n",
              "    }\n",
              "  </style>\n",
              "\n",
              "      <script>\n",
              "        const buttonEl =\n",
              "          document.querySelector('#df-94c06a1a-a931-4a0a-813d-2b79a0779199 button.colab-df-convert');\n",
              "        buttonEl.style.display =\n",
              "          google.colab.kernel.accessAllowed ? 'block' : 'none';\n",
              "\n",
              "        async function convertToInteractive(key) {\n",
              "          const element = document.querySelector('#df-94c06a1a-a931-4a0a-813d-2b79a0779199');\n",
              "          const dataTable =\n",
              "            await google.colab.kernel.invokeFunction('convertToInteractive',\n",
              "                                                     [key], {});\n",
              "          if (!dataTable) return;\n",
              "\n",
              "          const docLinkHtml = 'Like what you see? Visit the ' +\n",
              "            '<a target=\"_blank\" href=https://colab.research.google.com/notebooks/data_table.ipynb>data table notebook</a>'\n",
              "            + ' to learn more about interactive tables.';\n",
              "          element.innerHTML = '';\n",
              "          dataTable['output_type'] = 'display_data';\n",
              "          await google.colab.output.renderOutput(dataTable, element);\n",
              "          const docLink = document.createElement('div');\n",
              "          docLink.innerHTML = docLinkHtml;\n",
              "          element.appendChild(docLink);\n",
              "        }\n",
              "      </script>\n",
              "    </div>\n",
              "  </div>\n",
              "  "
            ]
          },
          "metadata": {},
          "execution_count": 9
        }
      ]
    },
    {
      "cell_type": "markdown",
      "source": [
        "I have made the difficult decision to drop these hyphenated rows as I don't want to leave them blank nor convert them to 0 - full data rows are preferred. I also need to convert FastCharge_KmH from an 'object' type to a 'int64' numeric type."
      ],
      "metadata": {
        "id": "c4mVijG75OjH"
      }
    },
    {
      "cell_type": "code",
      "source": [
        "Electric_cars.drop(Electric_cars[Electric_cars['FastCharge_KmH'] == '-'].index, inplace = True)"
      ],
      "metadata": {
        "id": "7LBOe4aC2oyR"
      },
      "execution_count": null,
      "outputs": []
    },
    {
      "cell_type": "code",
      "source": [
        "Electric_cars.shape"
      ],
      "metadata": {
        "colab": {
          "base_uri": "https://localhost:8080/"
        },
        "id": "tyYuI38Q3o5D",
        "outputId": "4a795008-891a-4038-80bf-4acf4b52b43b"
      },
      "execution_count": null,
      "outputs": [
        {
          "output_type": "execute_result",
          "data": {
            "text/plain": [
              "(98, 14)"
            ]
          },
          "metadata": {},
          "execution_count": 11
        }
      ]
    },
    {
      "cell_type": "code",
      "source": [
        "# Adding try-except block in case conversion to numeric fails\n",
        "try:\n",
        "    Electric_cars['FastCharge_KmH'] = pd.to_numeric(Electric_cars['FastCharge_KmH'])\n",
        "except Exception as e:\n",
        "    print(\"Something needs fixing: {}\".format(e))"
      ],
      "metadata": {
        "id": "X0Mv8B4r4Dqe"
      },
      "execution_count": null,
      "outputs": []
    },
    {
      "cell_type": "code",
      "source": [
        "Electric_cars.info()\n"
      ],
      "metadata": {
        "colab": {
          "base_uri": "https://localhost:8080/"
        },
        "id": "27AtXm_v4-fC",
        "outputId": "0a1712f7-f069-4be1-a77e-0fa7424acadb"
      },
      "execution_count": null,
      "outputs": [
        {
          "output_type": "stream",
          "name": "stdout",
          "text": [
            "<class 'pandas.core.frame.DataFrame'>\n",
            "Int64Index: 98 entries, 0 to 102\n",
            "Data columns (total 14 columns):\n",
            " #   Column           Non-Null Count  Dtype  \n",
            "---  ------           --------------  -----  \n",
            " 0   Brand            98 non-null     object \n",
            " 1   Model            98 non-null     object \n",
            " 2   AccelSec         98 non-null     float64\n",
            " 3   TopSpeed_KmH     98 non-null     int64  \n",
            " 4   Range_KM         98 non-null     int64  \n",
            " 5   Efficiency_WhKm  98 non-null     int64  \n",
            " 6   FastCharge_KmH   98 non-null     int64  \n",
            " 7   RapidCharge      98 non-null     object \n",
            " 8   PowerTrain       98 non-null     object \n",
            " 9   PlugType         98 non-null     object \n",
            " 10  BodyStyle        98 non-null     object \n",
            " 11  Segment          98 non-null     object \n",
            " 12  Seats            98 non-null     int64  \n",
            " 13  PriceEuro        98 non-null     int64  \n",
            "dtypes: float64(1), int64(6), object(7)\n",
            "memory usage: 11.5+ KB\n"
          ]
        }
      ]
    },
    {
      "cell_type": "markdown",
      "source": [
        "Although I would have preferred not to remove 5 rows of data, 98 observations of data for the 14 attributes should suffice for further analysis."
      ],
      "metadata": {
        "id": "X4siXmtl5-gX"
      }
    },
    {
      "cell_type": "markdown",
      "source": [
        "# Checking Duplicate Values"
      ],
      "metadata": {
        "id": "wuyQRCtfUMne"
      }
    },
    {
      "cell_type": "code",
      "source": [
        "Electric_cars.duplicated() # checking for duplicates, returning a boolean value"
      ],
      "metadata": {
        "colab": {
          "base_uri": "https://localhost:8080/"
        },
        "id": "59JWzh1-UQ8Z",
        "outputId": "5faf06c1-794a-4aa6-a665-22195e23f067"
      },
      "execution_count": null,
      "outputs": [
        {
          "output_type": "execute_result",
          "data": {
            "text/plain": [
              "0      False\n",
              "1      False\n",
              "2      False\n",
              "3      False\n",
              "4      False\n",
              "       ...  \n",
              "98     False\n",
              "99     False\n",
              "100    False\n",
              "101    False\n",
              "102    False\n",
              "Length: 98, dtype: bool"
            ]
          },
          "metadata": {},
          "execution_count": 14
        }
      ]
    },
    {
      "cell_type": "code",
      "source": [
        "Duplicate_rows = Electric_cars[Electric_cars.duplicated()]\n",
        "print(\"Number of duplicate rows: {}\".format(Duplicate_rows.shape))"
      ],
      "metadata": {
        "colab": {
          "base_uri": "https://localhost:8080/"
        },
        "id": "igEh0BASU8Ep",
        "outputId": "19507a51-f8cf-405c-9483-3f201f6e3148"
      },
      "execution_count": null,
      "outputs": [
        {
          "output_type": "stream",
          "name": "stdout",
          "text": [
            "Number of duplicate rows: (0, 14)\n"
          ]
        }
      ]
    },
    {
      "cell_type": "markdown",
      "source": [
        "No duplicate rows detected in the dataset"
      ],
      "metadata": {
        "id": "8p4sm0DQVS1Z"
      }
    },
    {
      "cell_type": "markdown",
      "source": [
        "# Descriptive Statistics of Attributes"
      ],
      "metadata": {
        "id": "tHGB_cYsFuV3"
      }
    },
    {
      "cell_type": "code",
      "source": [
        "Electric_cars.info() # Checking data type of columns"
      ],
      "metadata": {
        "colab": {
          "base_uri": "https://localhost:8080/"
        },
        "id": "zAvGbnxTFzUK",
        "outputId": "d2b2ae6f-7812-4735-9de0-ca1795031d02"
      },
      "execution_count": null,
      "outputs": [
        {
          "output_type": "stream",
          "name": "stdout",
          "text": [
            "<class 'pandas.core.frame.DataFrame'>\n",
            "Int64Index: 98 entries, 0 to 102\n",
            "Data columns (total 14 columns):\n",
            " #   Column           Non-Null Count  Dtype  \n",
            "---  ------           --------------  -----  \n",
            " 0   Brand            98 non-null     object \n",
            " 1   Model            98 non-null     object \n",
            " 2   AccelSec         98 non-null     float64\n",
            " 3   TopSpeed_KmH     98 non-null     int64  \n",
            " 4   Range_KM         98 non-null     int64  \n",
            " 5   Efficiency_WhKm  98 non-null     int64  \n",
            " 6   FastCharge_KmH   98 non-null     int64  \n",
            " 7   RapidCharge      98 non-null     object \n",
            " 8   PowerTrain       98 non-null     object \n",
            " 9   PlugType         98 non-null     object \n",
            " 10  BodyStyle        98 non-null     object \n",
            " 11  Segment          98 non-null     object \n",
            " 12  Seats            98 non-null     int64  \n",
            " 13  PriceEuro        98 non-null     int64  \n",
            "dtypes: float64(1), int64(6), object(7)\n",
            "memory usage: 11.5+ KB\n"
          ]
        }
      ]
    },
    {
      "cell_type": "code",
      "source": [
        "include = ['object', 'float64', 'int64']\n",
        "Electric_cars.describe(include = include) # output basic descriptive stats of each column"
      ],
      "metadata": {
        "colab": {
          "base_uri": "https://localhost:8080/",
          "height": 493
        },
        "id": "6yJa3ZzDF4oU",
        "outputId": "c8f015c1-4a0a-4b2f-c285-a7ea1a356bb4"
      },
      "execution_count": null,
      "outputs": [
        {
          "output_type": "execute_result",
          "data": {
            "text/plain": [
              "         Brand          Model  AccelSec  TopSpeed_KmH  Range_KM  \\\n",
              "count       98             98    98.000        98.000    98.000   \n",
              "unique      32             97       NaN           NaN       NaN   \n",
              "top     Tesla   e-Soul 64 kWh       NaN           NaN       NaN   \n",
              "freq        13              2       NaN           NaN       NaN   \n",
              "mean       NaN            NaN     7.047       181.653   350.153   \n",
              "std        NaN            NaN     2.484        43.249   118.218   \n",
              "min        NaN            NaN     2.100       123.000   170.000   \n",
              "25%        NaN            NaN     5.100       150.000   258.750   \n",
              "50%        NaN            NaN     7.300       167.000   350.000   \n",
              "75%        NaN            NaN     8.950       200.000   407.500   \n",
              "max        NaN            NaN    14.000       410.000   970.000   \n",
              "\n",
              "        Efficiency_WhKm  FastCharge_KmH RapidCharge PowerTrain    PlugType  \\\n",
              "count            98.000          98.000          98         98          98   \n",
              "unique              NaN             NaN           1          3           4   \n",
              "top                 NaN             NaN         Yes        AWD  Type 2 CCS   \n",
              "freq                NaN             NaN          98         41          90   \n",
              "mean            189.867         456.735         NaN        NaN         NaN   \n",
              "std              30.056         201.263         NaN        NaN         NaN   \n",
              "min             104.000         170.000         NaN        NaN         NaN   \n",
              "25%             168.000         275.000         NaN        NaN         NaN   \n",
              "50%             181.000         440.000         NaN        NaN         NaN   \n",
              "75%             206.000         560.000         NaN        NaN         NaN   \n",
              "max             273.000         940.000         NaN        NaN         NaN   \n",
              "\n",
              "       BodyStyle Segment  Seats  PriceEuro  \n",
              "count         98      98 98.000     98.000  \n",
              "unique         9       8    NaN        NaN  \n",
              "top          SUV       C    NaN        NaN  \n",
              "freq          45      30    NaN        NaN  \n",
              "mean         NaN     NaN  4.959  57324.684  \n",
              "std          NaN     NaN  0.687  34288.246  \n",
              "min          NaN     NaN  4.000  20129.000  \n",
              "25%          NaN     NaN  5.000  35000.000  \n",
              "50%          NaN     NaN  5.000  45000.000  \n",
              "75%          NaN     NaN  5.000  65465.000  \n",
              "max          NaN     NaN  7.000 215000.000  "
            ],
            "text/html": [
              "\n",
              "  <div id=\"df-95b702b6-62c4-4f8b-a5bf-eb0b387ecd61\">\n",
              "    <div class=\"colab-df-container\">\n",
              "      <div>\n",
              "<style scoped>\n",
              "    .dataframe tbody tr th:only-of-type {\n",
              "        vertical-align: middle;\n",
              "    }\n",
              "\n",
              "    .dataframe tbody tr th {\n",
              "        vertical-align: top;\n",
              "    }\n",
              "\n",
              "    .dataframe thead th {\n",
              "        text-align: right;\n",
              "    }\n",
              "</style>\n",
              "<table border=\"1\" class=\"dataframe\">\n",
              "  <thead>\n",
              "    <tr style=\"text-align: right;\">\n",
              "      <th></th>\n",
              "      <th>Brand</th>\n",
              "      <th>Model</th>\n",
              "      <th>AccelSec</th>\n",
              "      <th>TopSpeed_KmH</th>\n",
              "      <th>Range_KM</th>\n",
              "      <th>Efficiency_WhKm</th>\n",
              "      <th>FastCharge_KmH</th>\n",
              "      <th>RapidCharge</th>\n",
              "      <th>PowerTrain</th>\n",
              "      <th>PlugType</th>\n",
              "      <th>BodyStyle</th>\n",
              "      <th>Segment</th>\n",
              "      <th>Seats</th>\n",
              "      <th>PriceEuro</th>\n",
              "    </tr>\n",
              "  </thead>\n",
              "  <tbody>\n",
              "    <tr>\n",
              "      <th>count</th>\n",
              "      <td>98</td>\n",
              "      <td>98</td>\n",
              "      <td>98.000</td>\n",
              "      <td>98.000</td>\n",
              "      <td>98.000</td>\n",
              "      <td>98.000</td>\n",
              "      <td>98.000</td>\n",
              "      <td>98</td>\n",
              "      <td>98</td>\n",
              "      <td>98</td>\n",
              "      <td>98</td>\n",
              "      <td>98</td>\n",
              "      <td>98.000</td>\n",
              "      <td>98.000</td>\n",
              "    </tr>\n",
              "    <tr>\n",
              "      <th>unique</th>\n",
              "      <td>32</td>\n",
              "      <td>97</td>\n",
              "      <td>NaN</td>\n",
              "      <td>NaN</td>\n",
              "      <td>NaN</td>\n",
              "      <td>NaN</td>\n",
              "      <td>NaN</td>\n",
              "      <td>1</td>\n",
              "      <td>3</td>\n",
              "      <td>4</td>\n",
              "      <td>9</td>\n",
              "      <td>8</td>\n",
              "      <td>NaN</td>\n",
              "      <td>NaN</td>\n",
              "    </tr>\n",
              "    <tr>\n",
              "      <th>top</th>\n",
              "      <td>Tesla</td>\n",
              "      <td>e-Soul 64 kWh</td>\n",
              "      <td>NaN</td>\n",
              "      <td>NaN</td>\n",
              "      <td>NaN</td>\n",
              "      <td>NaN</td>\n",
              "      <td>NaN</td>\n",
              "      <td>Yes</td>\n",
              "      <td>AWD</td>\n",
              "      <td>Type 2 CCS</td>\n",
              "      <td>SUV</td>\n",
              "      <td>C</td>\n",
              "      <td>NaN</td>\n",
              "      <td>NaN</td>\n",
              "    </tr>\n",
              "    <tr>\n",
              "      <th>freq</th>\n",
              "      <td>13</td>\n",
              "      <td>2</td>\n",
              "      <td>NaN</td>\n",
              "      <td>NaN</td>\n",
              "      <td>NaN</td>\n",
              "      <td>NaN</td>\n",
              "      <td>NaN</td>\n",
              "      <td>98</td>\n",
              "      <td>41</td>\n",
              "      <td>90</td>\n",
              "      <td>45</td>\n",
              "      <td>30</td>\n",
              "      <td>NaN</td>\n",
              "      <td>NaN</td>\n",
              "    </tr>\n",
              "    <tr>\n",
              "      <th>mean</th>\n",
              "      <td>NaN</td>\n",
              "      <td>NaN</td>\n",
              "      <td>7.047</td>\n",
              "      <td>181.653</td>\n",
              "      <td>350.153</td>\n",
              "      <td>189.867</td>\n",
              "      <td>456.735</td>\n",
              "      <td>NaN</td>\n",
              "      <td>NaN</td>\n",
              "      <td>NaN</td>\n",
              "      <td>NaN</td>\n",
              "      <td>NaN</td>\n",
              "      <td>4.959</td>\n",
              "      <td>57324.684</td>\n",
              "    </tr>\n",
              "    <tr>\n",
              "      <th>std</th>\n",
              "      <td>NaN</td>\n",
              "      <td>NaN</td>\n",
              "      <td>2.484</td>\n",
              "      <td>43.249</td>\n",
              "      <td>118.218</td>\n",
              "      <td>30.056</td>\n",
              "      <td>201.263</td>\n",
              "      <td>NaN</td>\n",
              "      <td>NaN</td>\n",
              "      <td>NaN</td>\n",
              "      <td>NaN</td>\n",
              "      <td>NaN</td>\n",
              "      <td>0.687</td>\n",
              "      <td>34288.246</td>\n",
              "    </tr>\n",
              "    <tr>\n",
              "      <th>min</th>\n",
              "      <td>NaN</td>\n",
              "      <td>NaN</td>\n",
              "      <td>2.100</td>\n",
              "      <td>123.000</td>\n",
              "      <td>170.000</td>\n",
              "      <td>104.000</td>\n",
              "      <td>170.000</td>\n",
              "      <td>NaN</td>\n",
              "      <td>NaN</td>\n",
              "      <td>NaN</td>\n",
              "      <td>NaN</td>\n",
              "      <td>NaN</td>\n",
              "      <td>4.000</td>\n",
              "      <td>20129.000</td>\n",
              "    </tr>\n",
              "    <tr>\n",
              "      <th>25%</th>\n",
              "      <td>NaN</td>\n",
              "      <td>NaN</td>\n",
              "      <td>5.100</td>\n",
              "      <td>150.000</td>\n",
              "      <td>258.750</td>\n",
              "      <td>168.000</td>\n",
              "      <td>275.000</td>\n",
              "      <td>NaN</td>\n",
              "      <td>NaN</td>\n",
              "      <td>NaN</td>\n",
              "      <td>NaN</td>\n",
              "      <td>NaN</td>\n",
              "      <td>5.000</td>\n",
              "      <td>35000.000</td>\n",
              "    </tr>\n",
              "    <tr>\n",
              "      <th>50%</th>\n",
              "      <td>NaN</td>\n",
              "      <td>NaN</td>\n",
              "      <td>7.300</td>\n",
              "      <td>167.000</td>\n",
              "      <td>350.000</td>\n",
              "      <td>181.000</td>\n",
              "      <td>440.000</td>\n",
              "      <td>NaN</td>\n",
              "      <td>NaN</td>\n",
              "      <td>NaN</td>\n",
              "      <td>NaN</td>\n",
              "      <td>NaN</td>\n",
              "      <td>5.000</td>\n",
              "      <td>45000.000</td>\n",
              "    </tr>\n",
              "    <tr>\n",
              "      <th>75%</th>\n",
              "      <td>NaN</td>\n",
              "      <td>NaN</td>\n",
              "      <td>8.950</td>\n",
              "      <td>200.000</td>\n",
              "      <td>407.500</td>\n",
              "      <td>206.000</td>\n",
              "      <td>560.000</td>\n",
              "      <td>NaN</td>\n",
              "      <td>NaN</td>\n",
              "      <td>NaN</td>\n",
              "      <td>NaN</td>\n",
              "      <td>NaN</td>\n",
              "      <td>5.000</td>\n",
              "      <td>65465.000</td>\n",
              "    </tr>\n",
              "    <tr>\n",
              "      <th>max</th>\n",
              "      <td>NaN</td>\n",
              "      <td>NaN</td>\n",
              "      <td>14.000</td>\n",
              "      <td>410.000</td>\n",
              "      <td>970.000</td>\n",
              "      <td>273.000</td>\n",
              "      <td>940.000</td>\n",
              "      <td>NaN</td>\n",
              "      <td>NaN</td>\n",
              "      <td>NaN</td>\n",
              "      <td>NaN</td>\n",
              "      <td>NaN</td>\n",
              "      <td>7.000</td>\n",
              "      <td>215000.000</td>\n",
              "    </tr>\n",
              "  </tbody>\n",
              "</table>\n",
              "</div>\n",
              "      <button class=\"colab-df-convert\" onclick=\"convertToInteractive('df-95b702b6-62c4-4f8b-a5bf-eb0b387ecd61')\"\n",
              "              title=\"Convert this dataframe to an interactive table.\"\n",
              "              style=\"display:none;\">\n",
              "        \n",
              "  <svg xmlns=\"http://www.w3.org/2000/svg\" height=\"24px\"viewBox=\"0 0 24 24\"\n",
              "       width=\"24px\">\n",
              "    <path d=\"M0 0h24v24H0V0z\" fill=\"none\"/>\n",
              "    <path d=\"M18.56 5.44l.94 2.06.94-2.06 2.06-.94-2.06-.94-.94-2.06-.94 2.06-2.06.94zm-11 1L8.5 8.5l.94-2.06 2.06-.94-2.06-.94L8.5 2.5l-.94 2.06-2.06.94zm10 10l.94 2.06.94-2.06 2.06-.94-2.06-.94-.94-2.06-.94 2.06-2.06.94z\"/><path d=\"M17.41 7.96l-1.37-1.37c-.4-.4-.92-.59-1.43-.59-.52 0-1.04.2-1.43.59L10.3 9.45l-7.72 7.72c-.78.78-.78 2.05 0 2.83L4 21.41c.39.39.9.59 1.41.59.51 0 1.02-.2 1.41-.59l7.78-7.78 2.81-2.81c.8-.78.8-2.07 0-2.86zM5.41 20L4 18.59l7.72-7.72 1.47 1.35L5.41 20z\"/>\n",
              "  </svg>\n",
              "      </button>\n",
              "      \n",
              "  <style>\n",
              "    .colab-df-container {\n",
              "      display:flex;\n",
              "      flex-wrap:wrap;\n",
              "      gap: 12px;\n",
              "    }\n",
              "\n",
              "    .colab-df-convert {\n",
              "      background-color: #E8F0FE;\n",
              "      border: none;\n",
              "      border-radius: 50%;\n",
              "      cursor: pointer;\n",
              "      display: none;\n",
              "      fill: #1967D2;\n",
              "      height: 32px;\n",
              "      padding: 0 0 0 0;\n",
              "      width: 32px;\n",
              "    }\n",
              "\n",
              "    .colab-df-convert:hover {\n",
              "      background-color: #E2EBFA;\n",
              "      box-shadow: 0px 1px 2px rgba(60, 64, 67, 0.3), 0px 1px 3px 1px rgba(60, 64, 67, 0.15);\n",
              "      fill: #174EA6;\n",
              "    }\n",
              "\n",
              "    [theme=dark] .colab-df-convert {\n",
              "      background-color: #3B4455;\n",
              "      fill: #D2E3FC;\n",
              "    }\n",
              "\n",
              "    [theme=dark] .colab-df-convert:hover {\n",
              "      background-color: #434B5C;\n",
              "      box-shadow: 0px 1px 3px 1px rgba(0, 0, 0, 0.15);\n",
              "      filter: drop-shadow(0px 1px 2px rgba(0, 0, 0, 0.3));\n",
              "      fill: #FFFFFF;\n",
              "    }\n",
              "  </style>\n",
              "\n",
              "      <script>\n",
              "        const buttonEl =\n",
              "          document.querySelector('#df-95b702b6-62c4-4f8b-a5bf-eb0b387ecd61 button.colab-df-convert');\n",
              "        buttonEl.style.display =\n",
              "          google.colab.kernel.accessAllowed ? 'block' : 'none';\n",
              "\n",
              "        async function convertToInteractive(key) {\n",
              "          const element = document.querySelector('#df-95b702b6-62c4-4f8b-a5bf-eb0b387ecd61');\n",
              "          const dataTable =\n",
              "            await google.colab.kernel.invokeFunction('convertToInteractive',\n",
              "                                                     [key], {});\n",
              "          if (!dataTable) return;\n",
              "\n",
              "          const docLinkHtml = 'Like what you see? Visit the ' +\n",
              "            '<a target=\"_blank\" href=https://colab.research.google.com/notebooks/data_table.ipynb>data table notebook</a>'\n",
              "            + ' to learn more about interactive tables.';\n",
              "          element.innerHTML = '';\n",
              "          dataTable['output_type'] = 'display_data';\n",
              "          await google.colab.output.renderOutput(dataTable, element);\n",
              "          const docLink = document.createElement('div');\n",
              "          docLink.innerHTML = docLinkHtml;\n",
              "          element.appendChild(docLink);\n",
              "        }\n",
              "      </script>\n",
              "    </div>\n",
              "  </div>\n",
              "  "
            ]
          },
          "metadata": {},
          "execution_count": 17
        }
      ]
    },
    {
      "cell_type": "markdown",
      "source": [
        "Numpy arithmetric functions can also be used to compute these basic descriptive stats. Using TopSpeed_KmH as an example:"
      ],
      "metadata": {
        "id": "DDCUjujciFzV"
      }
    },
    {
      "cell_type": "code",
      "source": [
        "mean = np.mean(Electric_cars['TopSpeed_KmH'])\n",
        "stdviation = np.std(Electric_cars['TopSpeed_KmH'])\n",
        "minimum = np.min(Electric_cars['TopSpeed_KmH'])\n",
        "quartile1 = Electric_cars['TopSpeed_KmH'].quantile([0.25])\n",
        "median = np.median(Electric_cars['TopSpeed_KmH'])\n",
        "quartile3 = Electric_cars['TopSpeed_KmH'].quantile([0.75])\n",
        "maximum = np.max(Electric_cars['TopSpeed_KmH'])\n",
        "\n",
        "print(\"Mean: {}\".format(mean))\n",
        "print(\"Standard Deviation: {}\".format(stdviation))\n",
        "print(\"Min: {}\".format(minimum))\n",
        "print(\"Quartile 1: {}\".format(quartile1))\n",
        "print(\"Median: {}\".format(median))\n",
        "print(\"Quartile 3: {}\".format(quartile3))\n",
        "print(\"Max: {}\".format(maximum))"
      ],
      "metadata": {
        "colab": {
          "base_uri": "https://localhost:8080/"
        },
        "id": "z40b3m89hUT8",
        "outputId": "c4f11e7c-a561-454c-f266-accda58285f0"
      },
      "execution_count": null,
      "outputs": [
        {
          "output_type": "stream",
          "name": "stdout",
          "text": [
            "Mean: 181.6530612244898\n",
            "Standard Deviation: 43.02730553080392\n",
            "Min: 123\n",
            "Quartile 1: 0.250   150.000\n",
            "Name: TopSpeed_KmH, dtype: float64\n",
            "Median: 167.0\n",
            "Quartile 3: 0.750   200.000\n",
            "Name: TopSpeed_KmH, dtype: float64\n",
            "Max: 410\n"
          ]
        }
      ]
    },
    {
      "cell_type": "markdown",
      "source": [
        "# Resolving Outliers"
      ],
      "metadata": {
        "id": "Ma0AnA-QHO5U"
      }
    },
    {
      "cell_type": "code",
      "source": [
        "Electric_cars.describe(include = ['float64', 'int64'])  # 7 numeric attributes to work with other than PriceEuro"
      ],
      "metadata": {
        "colab": {
          "base_uri": "https://localhost:8080/",
          "height": 300
        },
        "id": "U5TWGzOnHYel",
        "outputId": "3c26333c-702a-4eba-87d0-ef1376f1138f"
      },
      "execution_count": null,
      "outputs": [
        {
          "output_type": "execute_result",
          "data": {
            "text/plain": [
              "       AccelSec  TopSpeed_KmH  Range_KM  Efficiency_WhKm  FastCharge_KmH  \\\n",
              "count    98.000        98.000    98.000           98.000          98.000   \n",
              "mean      7.047       181.653   350.153          189.867         456.735   \n",
              "std       2.484        43.249   118.218           30.056         201.263   \n",
              "min       2.100       123.000   170.000          104.000         170.000   \n",
              "25%       5.100       150.000   258.750          168.000         275.000   \n",
              "50%       7.300       167.000   350.000          181.000         440.000   \n",
              "75%       8.950       200.000   407.500          206.000         560.000   \n",
              "max      14.000       410.000   970.000          273.000         940.000   \n",
              "\n",
              "       Seats  PriceEuro  \n",
              "count 98.000     98.000  \n",
              "mean   4.959  57324.684  \n",
              "std    0.687  34288.246  \n",
              "min    4.000  20129.000  \n",
              "25%    5.000  35000.000  \n",
              "50%    5.000  45000.000  \n",
              "75%    5.000  65465.000  \n",
              "max    7.000 215000.000  "
            ],
            "text/html": [
              "\n",
              "  <div id=\"df-cbb4fcf0-551b-4db9-bf1a-2d69c2660e1a\">\n",
              "    <div class=\"colab-df-container\">\n",
              "      <div>\n",
              "<style scoped>\n",
              "    .dataframe tbody tr th:only-of-type {\n",
              "        vertical-align: middle;\n",
              "    }\n",
              "\n",
              "    .dataframe tbody tr th {\n",
              "        vertical-align: top;\n",
              "    }\n",
              "\n",
              "    .dataframe thead th {\n",
              "        text-align: right;\n",
              "    }\n",
              "</style>\n",
              "<table border=\"1\" class=\"dataframe\">\n",
              "  <thead>\n",
              "    <tr style=\"text-align: right;\">\n",
              "      <th></th>\n",
              "      <th>AccelSec</th>\n",
              "      <th>TopSpeed_KmH</th>\n",
              "      <th>Range_KM</th>\n",
              "      <th>Efficiency_WhKm</th>\n",
              "      <th>FastCharge_KmH</th>\n",
              "      <th>Seats</th>\n",
              "      <th>PriceEuro</th>\n",
              "    </tr>\n",
              "  </thead>\n",
              "  <tbody>\n",
              "    <tr>\n",
              "      <th>count</th>\n",
              "      <td>98.000</td>\n",
              "      <td>98.000</td>\n",
              "      <td>98.000</td>\n",
              "      <td>98.000</td>\n",
              "      <td>98.000</td>\n",
              "      <td>98.000</td>\n",
              "      <td>98.000</td>\n",
              "    </tr>\n",
              "    <tr>\n",
              "      <th>mean</th>\n",
              "      <td>7.047</td>\n",
              "      <td>181.653</td>\n",
              "      <td>350.153</td>\n",
              "      <td>189.867</td>\n",
              "      <td>456.735</td>\n",
              "      <td>4.959</td>\n",
              "      <td>57324.684</td>\n",
              "    </tr>\n",
              "    <tr>\n",
              "      <th>std</th>\n",
              "      <td>2.484</td>\n",
              "      <td>43.249</td>\n",
              "      <td>118.218</td>\n",
              "      <td>30.056</td>\n",
              "      <td>201.263</td>\n",
              "      <td>0.687</td>\n",
              "      <td>34288.246</td>\n",
              "    </tr>\n",
              "    <tr>\n",
              "      <th>min</th>\n",
              "      <td>2.100</td>\n",
              "      <td>123.000</td>\n",
              "      <td>170.000</td>\n",
              "      <td>104.000</td>\n",
              "      <td>170.000</td>\n",
              "      <td>4.000</td>\n",
              "      <td>20129.000</td>\n",
              "    </tr>\n",
              "    <tr>\n",
              "      <th>25%</th>\n",
              "      <td>5.100</td>\n",
              "      <td>150.000</td>\n",
              "      <td>258.750</td>\n",
              "      <td>168.000</td>\n",
              "      <td>275.000</td>\n",
              "      <td>5.000</td>\n",
              "      <td>35000.000</td>\n",
              "    </tr>\n",
              "    <tr>\n",
              "      <th>50%</th>\n",
              "      <td>7.300</td>\n",
              "      <td>167.000</td>\n",
              "      <td>350.000</td>\n",
              "      <td>181.000</td>\n",
              "      <td>440.000</td>\n",
              "      <td>5.000</td>\n",
              "      <td>45000.000</td>\n",
              "    </tr>\n",
              "    <tr>\n",
              "      <th>75%</th>\n",
              "      <td>8.950</td>\n",
              "      <td>200.000</td>\n",
              "      <td>407.500</td>\n",
              "      <td>206.000</td>\n",
              "      <td>560.000</td>\n",
              "      <td>5.000</td>\n",
              "      <td>65465.000</td>\n",
              "    </tr>\n",
              "    <tr>\n",
              "      <th>max</th>\n",
              "      <td>14.000</td>\n",
              "      <td>410.000</td>\n",
              "      <td>970.000</td>\n",
              "      <td>273.000</td>\n",
              "      <td>940.000</td>\n",
              "      <td>7.000</td>\n",
              "      <td>215000.000</td>\n",
              "    </tr>\n",
              "  </tbody>\n",
              "</table>\n",
              "</div>\n",
              "      <button class=\"colab-df-convert\" onclick=\"convertToInteractive('df-cbb4fcf0-551b-4db9-bf1a-2d69c2660e1a')\"\n",
              "              title=\"Convert this dataframe to an interactive table.\"\n",
              "              style=\"display:none;\">\n",
              "        \n",
              "  <svg xmlns=\"http://www.w3.org/2000/svg\" height=\"24px\"viewBox=\"0 0 24 24\"\n",
              "       width=\"24px\">\n",
              "    <path d=\"M0 0h24v24H0V0z\" fill=\"none\"/>\n",
              "    <path d=\"M18.56 5.44l.94 2.06.94-2.06 2.06-.94-2.06-.94-.94-2.06-.94 2.06-2.06.94zm-11 1L8.5 8.5l.94-2.06 2.06-.94-2.06-.94L8.5 2.5l-.94 2.06-2.06.94zm10 10l.94 2.06.94-2.06 2.06-.94-2.06-.94-.94-2.06-.94 2.06-2.06.94z\"/><path d=\"M17.41 7.96l-1.37-1.37c-.4-.4-.92-.59-1.43-.59-.52 0-1.04.2-1.43.59L10.3 9.45l-7.72 7.72c-.78.78-.78 2.05 0 2.83L4 21.41c.39.39.9.59 1.41.59.51 0 1.02-.2 1.41-.59l7.78-7.78 2.81-2.81c.8-.78.8-2.07 0-2.86zM5.41 20L4 18.59l7.72-7.72 1.47 1.35L5.41 20z\"/>\n",
              "  </svg>\n",
              "      </button>\n",
              "      \n",
              "  <style>\n",
              "    .colab-df-container {\n",
              "      display:flex;\n",
              "      flex-wrap:wrap;\n",
              "      gap: 12px;\n",
              "    }\n",
              "\n",
              "    .colab-df-convert {\n",
              "      background-color: #E8F0FE;\n",
              "      border: none;\n",
              "      border-radius: 50%;\n",
              "      cursor: pointer;\n",
              "      display: none;\n",
              "      fill: #1967D2;\n",
              "      height: 32px;\n",
              "      padding: 0 0 0 0;\n",
              "      width: 32px;\n",
              "    }\n",
              "\n",
              "    .colab-df-convert:hover {\n",
              "      background-color: #E2EBFA;\n",
              "      box-shadow: 0px 1px 2px rgba(60, 64, 67, 0.3), 0px 1px 3px 1px rgba(60, 64, 67, 0.15);\n",
              "      fill: #174EA6;\n",
              "    }\n",
              "\n",
              "    [theme=dark] .colab-df-convert {\n",
              "      background-color: #3B4455;\n",
              "      fill: #D2E3FC;\n",
              "    }\n",
              "\n",
              "    [theme=dark] .colab-df-convert:hover {\n",
              "      background-color: #434B5C;\n",
              "      box-shadow: 0px 1px 3px 1px rgba(0, 0, 0, 0.15);\n",
              "      filter: drop-shadow(0px 1px 2px rgba(0, 0, 0, 0.3));\n",
              "      fill: #FFFFFF;\n",
              "    }\n",
              "  </style>\n",
              "\n",
              "      <script>\n",
              "        const buttonEl =\n",
              "          document.querySelector('#df-cbb4fcf0-551b-4db9-bf1a-2d69c2660e1a button.colab-df-convert');\n",
              "        buttonEl.style.display =\n",
              "          google.colab.kernel.accessAllowed ? 'block' : 'none';\n",
              "\n",
              "        async function convertToInteractive(key) {\n",
              "          const element = document.querySelector('#df-cbb4fcf0-551b-4db9-bf1a-2d69c2660e1a');\n",
              "          const dataTable =\n",
              "            await google.colab.kernel.invokeFunction('convertToInteractive',\n",
              "                                                     [key], {});\n",
              "          if (!dataTable) return;\n",
              "\n",
              "          const docLinkHtml = 'Like what you see? Visit the ' +\n",
              "            '<a target=\"_blank\" href=https://colab.research.google.com/notebooks/data_table.ipynb>data table notebook</a>'\n",
              "            + ' to learn more about interactive tables.';\n",
              "          element.innerHTML = '';\n",
              "          dataTable['output_type'] = 'display_data';\n",
              "          await google.colab.output.renderOutput(dataTable, element);\n",
              "          const docLink = document.createElement('div');\n",
              "          docLink.innerHTML = docLinkHtml;\n",
              "          element.appendChild(docLink);\n",
              "        }\n",
              "      </script>\n",
              "    </div>\n",
              "  </div>\n",
              "  "
            ]
          },
          "metadata": {},
          "execution_count": 19
        }
      ]
    },
    {
      "cell_type": "code",
      "source": [
        "sns.boxplot(x = Electric_cars['AccelSec'])"
      ],
      "metadata": {
        "colab": {
          "base_uri": "https://localhost:8080/",
          "height": 296
        },
        "id": "Fpg3XajOH1w6",
        "outputId": "315f8351-f4aa-4f7f-f2e2-ca475be278bf"
      },
      "execution_count": null,
      "outputs": [
        {
          "output_type": "execute_result",
          "data": {
            "text/plain": [
              "<matplotlib.axes._subplots.AxesSubplot at 0x7fce4cb2fc90>"
            ]
          },
          "metadata": {},
          "execution_count": 20
        },
        {
          "output_type": "display_data",
          "data": {
            "text/plain": [
              "<Figure size 432x288 with 1 Axes>"
            ],
            "image/png": "[encoded data removed]"
          },
          "metadata": {
            "needs_background": "light"
          }
        }
      ]
    },
    {
      "cell_type": "markdown",
      "source": [
        "No outliers present in the AccelSec column, note this attribute means the number of seconds it takes for a car to get from 0 - 100km/h so the **lower**, the better."
      ],
      "metadata": {
        "id": "U9qh2E1NLtty"
      }
    },
    {
      "cell_type": "code",
      "source": [
        "sns.boxplot(x = Electric_cars['TopSpeed_KmH'])"
      ],
      "metadata": {
        "colab": {
          "base_uri": "https://localhost:8080/",
          "height": 297
        },
        "id": "a0NVnSALI_Pg",
        "outputId": "af3e9fa5-6c8c-4e47-c065-5915e87684c3"
      },
      "execution_count": null,
      "outputs": [
        {
          "output_type": "execute_result",
          "data": {
            "text/plain": [
              "<matplotlib.axes._subplots.AxesSubplot at 0x7fce65838a50>"
            ]
          },
          "metadata": {},
          "execution_count": 21
        },
        {
          "output_type": "display_data",
          "data": {
            "text/plain": [
              "<Figure size 432x288 with 1 Axes>"
            ],
            "image/png": "[encoded data removed]"
          },
          "metadata": {
            "needs_background": "light"
          }
        }
      ]
    },
    {
      "cell_type": "markdown",
      "source": [
        "TopSpeed_KmH has limited outliers"
      ],
      "metadata": {
        "id": "hsesnfQ9Lw2V"
      }
    },
    {
      "cell_type": "code",
      "source": [
        "sns.boxplot(x = Electric_cars['Range_KM'])"
      ],
      "metadata": {
        "colab": {
          "base_uri": "https://localhost:8080/",
          "height": 297
        },
        "id": "c_oGFzbNJFnW",
        "outputId": "2cefcb1b-28bf-4653-b1dd-208de2de0f30"
      },
      "execution_count": null,
      "outputs": [
        {
          "output_type": "execute_result",
          "data": {
            "text/plain": [
              "<matplotlib.axes._subplots.AxesSubplot at 0x7fce4c4a1990>"
            ]
          },
          "metadata": {},
          "execution_count": 22
        },
        {
          "output_type": "display_data",
          "data": {
            "text/plain": [
              "<Figure size 432x288 with 1 Axes>"
            ],
            "image/png": "[encoded data removed]"
          },
          "metadata": {
            "needs_background": "light"
          }
        }
      ]
    },
    {
      "cell_type": "markdown",
      "source": [
        "Range_KM has limited outliers"
      ],
      "metadata": {
        "id": "QEUGlz1yLzup"
      }
    },
    {
      "cell_type": "code",
      "source": [
        "sns.boxplot(x = Electric_cars['Efficiency_WhKm'])"
      ],
      "metadata": {
        "colab": {
          "base_uri": "https://localhost:8080/",
          "height": 297
        },
        "id": "bB-E3wuXJdoX",
        "outputId": "2f9060fe-3470-489a-8554-463f3f2f5fb1"
      },
      "execution_count": null,
      "outputs": [
        {
          "output_type": "execute_result",
          "data": {
            "text/plain": [
              "<matplotlib.axes._subplots.AxesSubplot at 0x7fce4c41dbd0>"
            ]
          },
          "metadata": {},
          "execution_count": 23
        },
        {
          "output_type": "display_data",
          "data": {
            "text/plain": [
              "<Figure size 432x288 with 1 Axes>"
            ],
            "image/png": "[encoded data removed]"
          },
          "metadata": {
            "needs_background": "light"
          }
        }
      ]
    },
    {
      "cell_type": "markdown",
      "source": [
        "Some outliers visually present in the Efficiency_WhKm column"
      ],
      "metadata": {
        "id": "5loEQueWJuEi"
      }
    },
    {
      "cell_type": "code",
      "source": [
        "sns.boxplot(x = Electric_cars['FastCharge_KmH'])"
      ],
      "metadata": {
        "colab": {
          "base_uri": "https://localhost:8080/",
          "height": 297
        },
        "id": "YeXaGCfS7ijP",
        "outputId": "899b5049-e020-4fdb-ec0e-f31ae8feb7f2"
      },
      "execution_count": null,
      "outputs": [
        {
          "output_type": "execute_result",
          "data": {
            "text/plain": [
              "<matplotlib.axes._subplots.AxesSubplot at 0x7fce4c411e90>"
            ]
          },
          "metadata": {},
          "execution_count": 24
        },
        {
          "output_type": "display_data",
          "data": {
            "text/plain": [
              "<Figure size 432x288 with 1 Axes>"
            ],
            "image/png": "[encoded data removed]"
          },
          "metadata": {
            "needs_background": "light"
          }
        }
      ]
    },
    {
      "cell_type": "markdown",
      "source": [
        "No outliers present in the FastCharge_KmH column"
      ],
      "metadata": {
        "id": "db8PLehy7nZh"
      }
    },
    {
      "cell_type": "code",
      "source": [
        "sns.boxplot(x = Electric_cars['Seats'])"
      ],
      "metadata": {
        "colab": {
          "base_uri": "https://localhost:8080/",
          "height": 296
        },
        "id": "yEiP-B8cJzBo",
        "outputId": "08c67cf1-10e3-4092-eda8-8f376f204872"
      },
      "execution_count": null,
      "outputs": [
        {
          "output_type": "execute_result",
          "data": {
            "text/plain": [
              "<matplotlib.axes._subplots.AxesSubplot at 0x7fce4c384a90>"
            ]
          },
          "metadata": {},
          "execution_count": 25
        },
        {
          "output_type": "display_data",
          "data": {
            "text/plain": [
              "<Figure size 432x288 with 1 Axes>"
            ],
            "image/png": "[encoded data removed]"
          },
          "metadata": {
            "needs_background": "light"
          }
        }
      ]
    },
    {
      "cell_type": "markdown",
      "source": [
        "Seats is not that useful of an attribute to test outliers on given such small range (2 - 7)"
      ],
      "metadata": {
        "id": "8Qmz2mxSJ_O7"
      }
    },
    {
      "cell_type": "code",
      "source": [
        "# Defining Quartiles for potential removal of outliers\n",
        "Q1 = Electric_cars['Efficiency_WhKm'].quantile(0.25) \n",
        "Q3 = Electric_cars['Efficiency_WhKm'].quantile(0.75)\n",
        "IQR = Q3 - Q1 # Inter-Quartile range will be used to calculate suspect outliers\n",
        "total_outlier_num = ((Electric_cars['Efficiency_WhKm'] < (Q1 - 1.5 * IQR)) | (Electric_cars['Efficiency_WhKm'] > (Q3 + 1.5 * IQR))).sum()\n",
        "total_outlier_num\n"
      ],
      "metadata": {
        "colab": {
          "base_uri": "https://localhost:8080/"
        },
        "id": "lhBUm7HeLriC",
        "outputId": "ad006360-46dd-496f-9cfe-299b202b1a53"
      },
      "execution_count": null,
      "outputs": [
        {
          "output_type": "execute_result",
          "data": {
            "text/plain": [
              "4"
            ]
          },
          "metadata": {},
          "execution_count": 26
        }
      ]
    },
    {
      "cell_type": "markdown",
      "source": [
        "Calculation reveals 4 outliers out of 98 observations for Efficiency_WhKm - very small"
      ],
      "metadata": {
        "id": "0es1v-b_NroI"
      }
    },
    {
      "cell_type": "code",
      "source": [
        "Electric_cars[Electric_cars['Efficiency_WhKm'] == Electric_cars['Efficiency_WhKm'].max()]"
      ],
      "metadata": {
        "colab": {
          "base_uri": "https://localhost:8080/",
          "height": 179
        },
        "id": "cSCuAiEnN34T",
        "outputId": "c6482ee2-305e-4aac-b4e0-5937f5dcbd20"
      },
      "execution_count": null,
      "outputs": [
        {
          "output_type": "execute_result",
          "data": {
            "text/plain": [
              "        Brand         Model  AccelSec  TopSpeed_KmH  Range_KM  \\\n",
              "84  Mercedes   EQV 300 Long    10.000           140       330   \n",
              "\n",
              "    Efficiency_WhKm  FastCharge_KmH RapidCharge PowerTrain    PlugType  \\\n",
              "84              273             290         Yes        FWD  Type 2 CCS   \n",
              "\n",
              "   BodyStyle Segment  Seats  PriceEuro  \n",
              "84       SPV       N      7      70631  "
            ],
            "text/html": [
              "\n",
              "  <div id=\"df-fb1a737e-8e4b-4cfb-bdc7-f6899c5d3ead\">\n",
              "    <div class=\"colab-df-container\">\n",
              "      <div>\n",
              "<style scoped>\n",
              "    .dataframe tbody tr th:only-of-type {\n",
              "        vertical-align: middle;\n",
              "    }\n",
              "\n",
              "    .dataframe tbody tr th {\n",
              "        vertical-align: top;\n",
              "    }\n",
              "\n",
              "    .dataframe thead th {\n",
              "        text-align: right;\n",
              "    }\n",
              "</style>\n",
              "<table border=\"1\" class=\"dataframe\">\n",
              "  <thead>\n",
              "    <tr style=\"text-align: right;\">\n",
              "      <th></th>\n",
              "      <th>Brand</th>\n",
              "      <th>Model</th>\n",
              "      <th>AccelSec</th>\n",
              "      <th>TopSpeed_KmH</th>\n",
              "      <th>Range_KM</th>\n",
              "      <th>Efficiency_WhKm</th>\n",
              "      <th>FastCharge_KmH</th>\n",
              "      <th>RapidCharge</th>\n",
              "      <th>PowerTrain</th>\n",
              "      <th>PlugType</th>\n",
              "      <th>BodyStyle</th>\n",
              "      <th>Segment</th>\n",
              "      <th>Seats</th>\n",
              "      <th>PriceEuro</th>\n",
              "    </tr>\n",
              "  </thead>\n",
              "  <tbody>\n",
              "    <tr>\n",
              "      <th>84</th>\n",
              "      <td>Mercedes</td>\n",
              "      <td>EQV 300 Long</td>\n",
              "      <td>10.000</td>\n",
              "      <td>140</td>\n",
              "      <td>330</td>\n",
              "      <td>273</td>\n",
              "      <td>290</td>\n",
              "      <td>Yes</td>\n",
              "      <td>FWD</td>\n",
              "      <td>Type 2 CCS</td>\n",
              "      <td>SPV</td>\n",
              "      <td>N</td>\n",
              "      <td>7</td>\n",
              "      <td>70631</td>\n",
              "    </tr>\n",
              "  </tbody>\n",
              "</table>\n",
              "</div>\n",
              "      <button class=\"colab-df-convert\" onclick=\"convertToInteractive('df-fb1a737e-8e4b-4cfb-bdc7-f6899c5d3ead')\"\n",
              "              title=\"Convert this dataframe to an interactive table.\"\n",
              "              style=\"display:none;\">\n",
              "        \n",
              "  <svg xmlns=\"http://www.w3.org/2000/svg\" height=\"24px\"viewBox=\"0 0 24 24\"\n",
              "       width=\"24px\">\n",
              "    <path d=\"M0 0h24v24H0V0z\" fill=\"none\"/>\n",
              "    <path d=\"M18.56 5.44l.94 2.06.94-2.06 2.06-.94-2.06-.94-.94-2.06-.94 2.06-2.06.94zm-11 1L8.5 8.5l.94-2.06 2.06-.94-2.06-.94L8.5 2.5l-.94 2.06-2.06.94zm10 10l.94 2.06.94-2.06 2.06-.94-2.06-.94-.94-2.06-.94 2.06-2.06.94z\"/><path d=\"M17.41 7.96l-1.37-1.37c-.4-.4-.92-.59-1.43-.59-.52 0-1.04.2-1.43.59L10.3 9.45l-7.72 7.72c-.78.78-.78 2.05 0 2.83L4 21.41c.39.39.9.59 1.41.59.51 0 1.02-.2 1.41-.59l7.78-7.78 2.81-2.81c.8-.78.8-2.07 0-2.86zM5.41 20L4 18.59l7.72-7.72 1.47 1.35L5.41 20z\"/>\n",
              "  </svg>\n",
              "      </button>\n",
              "      \n",
              "  <style>\n",
              "    .colab-df-container {\n",
              "      display:flex;\n",
              "      flex-wrap:wrap;\n",
              "      gap: 12px;\n",
              "    }\n",
              "\n",
              "    .colab-df-convert {\n",
              "      background-color: #E8F0FE;\n",
              "      border: none;\n",
              "      border-radius: 50%;\n",
              "      cursor: pointer;\n",
              "      display: none;\n",
              "      fill: #1967D2;\n",
              "      height: 32px;\n",
              "      padding: 0 0 0 0;\n",
              "      width: 32px;\n",
              "    }\n",
              "\n",
              "    .colab-df-convert:hover {\n",
              "      background-color: #E2EBFA;\n",
              "      box-shadow: 0px 1px 2px rgba(60, 64, 67, 0.3), 0px 1px 3px 1px rgba(60, 64, 67, 0.15);\n",
              "      fill: #174EA6;\n",
              "    }\n",
              "\n",
              "    [theme=dark] .colab-df-convert {\n",
              "      background-color: #3B4455;\n",
              "      fill: #D2E3FC;\n",
              "    }\n",
              "\n",
              "    [theme=dark] .colab-df-convert:hover {\n",
              "      background-color: #434B5C;\n",
              "      box-shadow: 0px 1px 3px 1px rgba(0, 0, 0, 0.15);\n",
              "      filter: drop-shadow(0px 1px 2px rgba(0, 0, 0, 0.3));\n",
              "      fill: #FFFFFF;\n",
              "    }\n",
              "  </style>\n",
              "\n",
              "      <script>\n",
              "        const buttonEl =\n",
              "          document.querySelector('#df-fb1a737e-8e4b-4cfb-bdc7-f6899c5d3ead button.colab-df-convert');\n",
              "        buttonEl.style.display =\n",
              "          google.colab.kernel.accessAllowed ? 'block' : 'none';\n",
              "\n",
              "        async function convertToInteractive(key) {\n",
              "          const element = document.querySelector('#df-fb1a737e-8e4b-4cfb-bdc7-f6899c5d3ead');\n",
              "          const dataTable =\n",
              "            await google.colab.kernel.invokeFunction('convertToInteractive',\n",
              "                                                     [key], {});\n",
              "          if (!dataTable) return;\n",
              "\n",
              "          const docLinkHtml = 'Like what you see? Visit the ' +\n",
              "            '<a target=\"_blank\" href=https://colab.research.google.com/notebooks/data_table.ipynb>data table notebook</a>'\n",
              "            + ' to learn more about interactive tables.';\n",
              "          element.innerHTML = '';\n",
              "          dataTable['output_type'] = 'display_data';\n",
              "          await google.colab.output.renderOutput(dataTable, element);\n",
              "          const docLink = document.createElement('div');\n",
              "          docLink.innerHTML = docLinkHtml;\n",
              "          element.appendChild(docLink);\n",
              "        }\n",
              "      </script>\n",
              "    </div>\n",
              "  </div>\n",
              "  "
            ]
          },
          "metadata": {},
          "execution_count": 27
        }
      ]
    },
    {
      "cell_type": "markdown",
      "source": [
        "The car with the highest Efficiency_WhKm in the dataset is a N segment vehicle - this is a motor vehicle for carrying goods"
      ],
      "metadata": {
        "id": "0N9__Y4tP82E"
      }
    },
    {
      "cell_type": "code",
      "source": [
        "Electric_cars[Electric_cars['Efficiency_WhKm'] == Electric_cars['Efficiency_WhKm'].min()]"
      ],
      "metadata": {
        "colab": {
          "base_uri": "https://localhost:8080/",
          "height": 162
        },
        "id": "Qs86Sh44QNT4",
        "outputId": "a3633d8b-3c07-4da2-edb2-3361e2861654"
      },
      "execution_count": null,
      "outputs": [
        {
          "output_type": "execute_result",
          "data": {
            "text/plain": [
              "         Brand Model  AccelSec  TopSpeed_KmH  Range_KM  Efficiency_WhKm  \\\n",
              "48  Lightyear   One     10.000           150       575              104   \n",
              "\n",
              "    FastCharge_KmH RapidCharge PowerTrain    PlugType BodyStyle Segment  \\\n",
              "48             540         Yes        AWD  Type 2 CCS  Liftback       F   \n",
              "\n",
              "    Seats  PriceEuro  \n",
              "48      5     149000  "
            ],
            "text/html": [
              "\n",
              "  <div id=\"df-e7ec4d09-10ef-4607-9377-f14fd26a31f9\">\n",
              "    <div class=\"colab-df-container\">\n",
              "      <div>\n",
              "<style scoped>\n",
              "    .dataframe tbody tr th:only-of-type {\n",
              "        vertical-align: middle;\n",
              "    }\n",
              "\n",
              "    .dataframe tbody tr th {\n",
              "        vertical-align: top;\n",
              "    }\n",
              "\n",
              "    .dataframe thead th {\n",
              "        text-align: right;\n",
              "    }\n",
              "</style>\n",
              "<table border=\"1\" class=\"dataframe\">\n",
              "  <thead>\n",
              "    <tr style=\"text-align: right;\">\n",
              "      <th></th>\n",
              "      <th>Brand</th>\n",
              "      <th>Model</th>\n",
              "      <th>AccelSec</th>\n",
              "      <th>TopSpeed_KmH</th>\n",
              "      <th>Range_KM</th>\n",
              "      <th>Efficiency_WhKm</th>\n",
              "      <th>FastCharge_KmH</th>\n",
              "      <th>RapidCharge</th>\n",
              "      <th>PowerTrain</th>\n",
              "      <th>PlugType</th>\n",
              "      <th>BodyStyle</th>\n",
              "      <th>Segment</th>\n",
              "      <th>Seats</th>\n",
              "      <th>PriceEuro</th>\n",
              "    </tr>\n",
              "  </thead>\n",
              "  <tbody>\n",
              "    <tr>\n",
              "      <th>48</th>\n",
              "      <td>Lightyear</td>\n",
              "      <td>One</td>\n",
              "      <td>10.000</td>\n",
              "      <td>150</td>\n",
              "      <td>575</td>\n",
              "      <td>104</td>\n",
              "      <td>540</td>\n",
              "      <td>Yes</td>\n",
              "      <td>AWD</td>\n",
              "      <td>Type 2 CCS</td>\n",
              "      <td>Liftback</td>\n",
              "      <td>F</td>\n",
              "      <td>5</td>\n",
              "      <td>149000</td>\n",
              "    </tr>\n",
              "  </tbody>\n",
              "</table>\n",
              "</div>\n",
              "      <button class=\"colab-df-convert\" onclick=\"convertToInteractive('df-e7ec4d09-10ef-4607-9377-f14fd26a31f9')\"\n",
              "              title=\"Convert this dataframe to an interactive table.\"\n",
              "              style=\"display:none;\">\n",
              "        \n",
              "  <svg xmlns=\"http://www.w3.org/2000/svg\" height=\"24px\"viewBox=\"0 0 24 24\"\n",
              "       width=\"24px\">\n",
              "    <path d=\"M0 0h24v24H0V0z\" fill=\"none\"/>\n",
              "    <path d=\"M18.56 5.44l.94 2.06.94-2.06 2.06-.94-2.06-.94-.94-2.06-.94 2.06-2.06.94zm-11 1L8.5 8.5l.94-2.06 2.06-.94-2.06-.94L8.5 2.5l-.94 2.06-2.06.94zm10 10l.94 2.06.94-2.06 2.06-.94-2.06-.94-.94-2.06-.94 2.06-2.06.94z\"/><path d=\"M17.41 7.96l-1.37-1.37c-.4-.4-.92-.59-1.43-.59-.52 0-1.04.2-1.43.59L10.3 9.45l-7.72 7.72c-.78.78-.78 2.05 0 2.83L4 21.41c.39.39.9.59 1.41.59.51 0 1.02-.2 1.41-.59l7.78-7.78 2.81-2.81c.8-.78.8-2.07 0-2.86zM5.41 20L4 18.59l7.72-7.72 1.47 1.35L5.41 20z\"/>\n",
              "  </svg>\n",
              "      </button>\n",
              "      \n",
              "  <style>\n",
              "    .colab-df-container {\n",
              "      display:flex;\n",
              "      flex-wrap:wrap;\n",
              "      gap: 12px;\n",
              "    }\n",
              "\n",
              "    .colab-df-convert {\n",
              "      background-color: #E8F0FE;\n",
              "      border: none;\n",
              "      border-radius: 50%;\n",
              "      cursor: pointer;\n",
              "      display: none;\n",
              "      fill: #1967D2;\n",
              "      height: 32px;\n",
              "      padding: 0 0 0 0;\n",
              "      width: 32px;\n",
              "    }\n",
              "\n",
              "    .colab-df-convert:hover {\n",
              "      background-color: #E2EBFA;\n",
              "      box-shadow: 0px 1px 2px rgba(60, 64, 67, 0.3), 0px 1px 3px 1px rgba(60, 64, 67, 0.15);\n",
              "      fill: #174EA6;\n",
              "    }\n",
              "\n",
              "    [theme=dark] .colab-df-convert {\n",
              "      background-color: #3B4455;\n",
              "      fill: #D2E3FC;\n",
              "    }\n",
              "\n",
              "    [theme=dark] .colab-df-convert:hover {\n",
              "      background-color: #434B5C;\n",
              "      box-shadow: 0px 1px 3px 1px rgba(0, 0, 0, 0.15);\n",
              "      filter: drop-shadow(0px 1px 2px rgba(0, 0, 0, 0.3));\n",
              "      fill: #FFFFFF;\n",
              "    }\n",
              "  </style>\n",
              "\n",
              "      <script>\n",
              "        const buttonEl =\n",
              "          document.querySelector('#df-e7ec4d09-10ef-4607-9377-f14fd26a31f9 button.colab-df-convert');\n",
              "        buttonEl.style.display =\n",
              "          google.colab.kernel.accessAllowed ? 'block' : 'none';\n",
              "\n",
              "        async function convertToInteractive(key) {\n",
              "          const element = document.querySelector('#df-e7ec4d09-10ef-4607-9377-f14fd26a31f9');\n",
              "          const dataTable =\n",
              "            await google.colab.kernel.invokeFunction('convertToInteractive',\n",
              "                                                     [key], {});\n",
              "          if (!dataTable) return;\n",
              "\n",
              "          const docLinkHtml = 'Like what you see? Visit the ' +\n",
              "            '<a target=\"_blank\" href=https://colab.research.google.com/notebooks/data_table.ipynb>data table notebook</a>'\n",
              "            + ' to learn more about interactive tables.';\n",
              "          element.innerHTML = '';\n",
              "          dataTable['output_type'] = 'display_data';\n",
              "          await google.colab.output.renderOutput(dataTable, element);\n",
              "          const docLink = document.createElement('div');\n",
              "          docLink.innerHTML = docLinkHtml;\n",
              "          element.appendChild(docLink);\n",
              "        }\n",
              "      </script>\n",
              "    </div>\n",
              "  </div>\n",
              "  "
            ]
          },
          "metadata": {},
          "execution_count": 28
        }
      ]
    },
    {
      "cell_type": "markdown",
      "source": [
        "The car with the lowest Efficiency_WhKm in the dataset is a F segment luxury vehicle. "
      ],
      "metadata": {
        "id": "iA_I8xeiQZwR"
      }
    },
    {
      "cell_type": "markdown",
      "source": [
        "Given there are only a small number of outliers which don't appear to be outliers for other attributes, have decided to retain in dataset. These data points might also be useful for solving the business problem."
      ],
      "metadata": {
        "id": "YeodeeUhQyqM"
      }
    },
    {
      "cell_type": "code",
      "source": [
        "sns.boxplot(x = Electric_cars['PriceEuro'])"
      ],
      "metadata": {
        "colab": {
          "base_uri": "https://localhost:8080/",
          "height": 296
        },
        "id": "lqrZZpCCRBvc",
        "outputId": "a1356073-3780-4305-b1ae-030f40156b26"
      },
      "execution_count": null,
      "outputs": [
        {
          "output_type": "execute_result",
          "data": {
            "text/plain": [
              "<matplotlib.axes._subplots.AxesSubplot at 0x7fce4c34cc90>"
            ]
          },
          "metadata": {},
          "execution_count": 29
        },
        {
          "output_type": "display_data",
          "data": {
            "text/plain": [
              "<Figure size 432x288 with 1 Axes>"
            ],
            "image/png": "[encoded data removed]"
          },
          "metadata": {
            "needs_background": "light"
          }
        }
      ]
    },
    {
      "cell_type": "code",
      "source": [
        "# Defining Quartiles for potential removal of outliers\n",
        "Q1 = Electric_cars['PriceEuro'].quantile(0.25) \n",
        "Q3 = Electric_cars['PriceEuro'].quantile(0.75)\n",
        "IQR = Q3 - Q1 # Inter-Quartile range will be used to calculate suspect outliers\n",
        "total_outlier_PE = ((Electric_cars['PriceEuro'] < (Q1 - 1.5 * IQR)) | (Electric_cars['PriceEuro'] > (Q3 + 1.5 * IQR))).sum()\n",
        "total_outlier_PE"
      ],
      "metadata": {
        "colab": {
          "base_uri": "https://localhost:8080/"
        },
        "id": "xVl1EmCDRGCz",
        "outputId": "5dd6baf3-648c-4211-8b3b-4730373416a7"
      },
      "execution_count": null,
      "outputs": [
        {
          "output_type": "execute_result",
          "data": {
            "text/plain": [
              "6"
            ]
          },
          "metadata": {},
          "execution_count": 30
        }
      ]
    },
    {
      "cell_type": "markdown",
      "source": [
        "Again, our dependent variable of focus PriceEuro only has a small number of outliers (6) - will retain these observations in the dataset. These extra data points could be used for solving the business problem."
      ],
      "metadata": {
        "id": "CP8Xe9WSRXWc"
      }
    },
    {
      "cell_type": "code",
      "source": [
        "# Interest in the most expensive EV\n",
        "Electric_cars [Electric_cars['PriceEuro'] == Electric_cars['PriceEuro'].max()]"
      ],
      "metadata": {
        "colab": {
          "base_uri": "https://localhost:8080/",
          "height": 162
        },
        "id": "TnTDbIOQR6fd",
        "outputId": "063ef4a5-4a54-45e1-eb36-aea8897a3512"
      },
      "execution_count": null,
      "outputs": [
        {
          "output_type": "execute_result",
          "data": {
            "text/plain": [
              "     Brand      Model  AccelSec  TopSpeed_KmH  Range_KM  Efficiency_WhKm  \\\n",
              "51  Tesla   Roadster      2.100           410       970              206   \n",
              "\n",
              "    FastCharge_KmH RapidCharge PowerTrain    PlugType BodyStyle Segment  \\\n",
              "51             920         Yes        AWD  Type 2 CCS    Cabrio       S   \n",
              "\n",
              "    Seats  PriceEuro  \n",
              "51      4     215000  "
            ],
            "text/html": [
              "\n",
              "  <div id=\"df-af4532f1-8436-4e02-8e98-e29a1cc94283\">\n",
              "    <div class=\"colab-df-container\">\n",
              "      <div>\n",
              "<style scoped>\n",
              "    .dataframe tbody tr th:only-of-type {\n",
              "        vertical-align: middle;\n",
              "    }\n",
              "\n",
              "    .dataframe tbody tr th {\n",
              "        vertical-align: top;\n",
              "    }\n",
              "\n",
              "    .dataframe thead th {\n",
              "        text-align: right;\n",
              "    }\n",
              "</style>\n",
              "<table border=\"1\" class=\"dataframe\">\n",
              "  <thead>\n",
              "    <tr style=\"text-align: right;\">\n",
              "      <th></th>\n",
              "      <th>Brand</th>\n",
              "      <th>Model</th>\n",
              "      <th>AccelSec</th>\n",
              "      <th>TopSpeed_KmH</th>\n",
              "      <th>Range_KM</th>\n",
              "      <th>Efficiency_WhKm</th>\n",
              "      <th>FastCharge_KmH</th>\n",
              "      <th>RapidCharge</th>\n",
              "      <th>PowerTrain</th>\n",
              "      <th>PlugType</th>\n",
              "      <th>BodyStyle</th>\n",
              "      <th>Segment</th>\n",
              "      <th>Seats</th>\n",
              "      <th>PriceEuro</th>\n",
              "    </tr>\n",
              "  </thead>\n",
              "  <tbody>\n",
              "    <tr>\n",
              "      <th>51</th>\n",
              "      <td>Tesla</td>\n",
              "      <td>Roadster</td>\n",
              "      <td>2.100</td>\n",
              "      <td>410</td>\n",
              "      <td>970</td>\n",
              "      <td>206</td>\n",
              "      <td>920</td>\n",
              "      <td>Yes</td>\n",
              "      <td>AWD</td>\n",
              "      <td>Type 2 CCS</td>\n",
              "      <td>Cabrio</td>\n",
              "      <td>S</td>\n",
              "      <td>4</td>\n",
              "      <td>215000</td>\n",
              "    </tr>\n",
              "  </tbody>\n",
              "</table>\n",
              "</div>\n",
              "      <button class=\"colab-df-convert\" onclick=\"convertToInteractive('df-af4532f1-8436-4e02-8e98-e29a1cc94283')\"\n",
              "              title=\"Convert this dataframe to an interactive table.\"\n",
              "              style=\"display:none;\">\n",
              "        \n",
              "  <svg xmlns=\"http://www.w3.org/2000/svg\" height=\"24px\"viewBox=\"0 0 24 24\"\n",
              "       width=\"24px\">\n",
              "    <path d=\"M0 0h24v24H0V0z\" fill=\"none\"/>\n",
              "    <path d=\"M18.56 5.44l.94 2.06.94-2.06 2.06-.94-2.06-.94-.94-2.06-.94 2.06-2.06.94zm-11 1L8.5 8.5l.94-2.06 2.06-.94-2.06-.94L8.5 2.5l-.94 2.06-2.06.94zm10 10l.94 2.06.94-2.06 2.06-.94-2.06-.94-.94-2.06-.94 2.06-2.06.94z\"/><path d=\"M17.41 7.96l-1.37-1.37c-.4-.4-.92-.59-1.43-.59-.52 0-1.04.2-1.43.59L10.3 9.45l-7.72 7.72c-.78.78-.78 2.05 0 2.83L4 21.41c.39.39.9.59 1.41.59.51 0 1.02-.2 1.41-.59l7.78-7.78 2.81-2.81c.8-.78.8-2.07 0-2.86zM5.41 20L4 18.59l7.72-7.72 1.47 1.35L5.41 20z\"/>\n",
              "  </svg>\n",
              "      </button>\n",
              "      \n",
              "  <style>\n",
              "    .colab-df-container {\n",
              "      display:flex;\n",
              "      flex-wrap:wrap;\n",
              "      gap: 12px;\n",
              "    }\n",
              "\n",
              "    .colab-df-convert {\n",
              "      background-color: #E8F0FE;\n",
              "      border: none;\n",
              "      border-radius: 50%;\n",
              "      cursor: pointer;\n",
              "      display: none;\n",
              "      fill: #1967D2;\n",
              "      height: 32px;\n",
              "      padding: 0 0 0 0;\n",
              "      width: 32px;\n",
              "    }\n",
              "\n",
              "    .colab-df-convert:hover {\n",
              "      background-color: #E2EBFA;\n",
              "      box-shadow: 0px 1px 2px rgba(60, 64, 67, 0.3), 0px 1px 3px 1px rgba(60, 64, 67, 0.15);\n",
              "      fill: #174EA6;\n",
              "    }\n",
              "\n",
              "    [theme=dark] .colab-df-convert {\n",
              "      background-color: #3B4455;\n",
              "      fill: #D2E3FC;\n",
              "    }\n",
              "\n",
              "    [theme=dark] .colab-df-convert:hover {\n",
              "      background-color: #434B5C;\n",
              "      box-shadow: 0px 1px 3px 1px rgba(0, 0, 0, 0.15);\n",
              "      filter: drop-shadow(0px 1px 2px rgba(0, 0, 0, 0.3));\n",
              "      fill: #FFFFFF;\n",
              "    }\n",
              "  </style>\n",
              "\n",
              "      <script>\n",
              "        const buttonEl =\n",
              "          document.querySelector('#df-af4532f1-8436-4e02-8e98-e29a1cc94283 button.colab-df-convert');\n",
              "        buttonEl.style.display =\n",
              "          google.colab.kernel.accessAllowed ? 'block' : 'none';\n",
              "\n",
              "        async function convertToInteractive(key) {\n",
              "          const element = document.querySelector('#df-af4532f1-8436-4e02-8e98-e29a1cc94283');\n",
              "          const dataTable =\n",
              "            await google.colab.kernel.invokeFunction('convertToInteractive',\n",
              "                                                     [key], {});\n",
              "          if (!dataTable) return;\n",
              "\n",
              "          const docLinkHtml = 'Like what you see? Visit the ' +\n",
              "            '<a target=\"_blank\" href=https://colab.research.google.com/notebooks/data_table.ipynb>data table notebook</a>'\n",
              "            + ' to learn more about interactive tables.';\n",
              "          element.innerHTML = '';\n",
              "          dataTable['output_type'] = 'display_data';\n",
              "          await google.colab.output.renderOutput(dataTable, element);\n",
              "          const docLink = document.createElement('div');\n",
              "          docLink.innerHTML = docLinkHtml;\n",
              "          element.appendChild(docLink);\n",
              "        }\n",
              "      </script>\n",
              "    </div>\n",
              "  </div>\n",
              "  "
            ]
          },
          "metadata": {},
          "execution_count": 31
        }
      ]
    },
    {
      "cell_type": "markdown",
      "source": [
        "Elon Musk is very proud of this car!"
      ],
      "metadata": {
        "id": "OKzMoNNbSIfx"
      }
    },
    {
      "cell_type": "markdown",
      "source": [
        "# Data Visualisation"
      ],
      "metadata": {
        "id": "apSkgg-1SXjM"
      }
    },
    {
      "cell_type": "markdown",
      "source": [
        "A good place to start is understanding the visual distribution of the price of the electric cars."
      ],
      "metadata": {
        "id": "fmn8dUk8rHFH"
      }
    },
    {
      "cell_type": "code",
      "source": [
        "# Matplotlib histogram is a useful way to understand the distribution of price data\n",
        "_, ax = plt.subplots()\n",
        "ax.hist(Electric_cars['PriceEuro'], bins = 8, alpha = 0.5, facecolor = \"blue\")\n",
        "plt.xlabel(\"Price Ranges\")\n",
        "plt.ylabel(\"Frequency\")\n",
        "plt.title(\"Distribution of Electric Car Prices\")\n",
        "plt.show()"
      ],
      "metadata": {
        "colab": {
          "base_uri": "https://localhost:8080/",
          "height": 295
        },
        "id": "kRtPt4dMkXx4",
        "outputId": "905f645d-6e56-4bd0-ef7a-37324ece106c"
      },
      "execution_count": null,
      "outputs": [
        {
          "output_type": "display_data",
          "data": {
            "text/plain": [
              "<Figure size 432x288 with 1 Axes>"
            ],
            "image/png": "[encoded data removed]"
          },
          "metadata": {
            "needs_background": "light"
          }
        }
      ]
    },
    {
      "cell_type": "markdown",
      "source": [
        "The vast majority of electric cars are retailing for below 75000 euros"
      ],
      "metadata": {
        "id": "jMbGiS-So7Xx"
      }
    },
    {
      "cell_type": "markdown",
      "source": [
        "The focus then moves to the categorical variables to determine whether there are any key patterns/trends. I have decided to omit Brand (given there are so many) and Model (each model is unique) from the visualisation analysis."
      ],
      "metadata": {
        "id": "bKI8w2-xqd-R"
      }
    },
    {
      "cell_type": "code",
      "source": [
        "sns.barplot(x = Electric_cars['RapidCharge'].value_counts().index, \n",
        "            y = Electric_cars['RapidCharge'].value_counts().values)\n",
        "plt.title (\"Comparing the Frequency of RapidCharge versus without\")\n",
        "plt.ylabel (\"Count\")\n",
        "plt.show()\n",
        "print(\"Value count for RapidCharge:\\n{}\".format(Electric_cars['RapidCharge'].value_counts()))"
      ],
      "metadata": {
        "colab": {
          "base_uri": "https://localhost:8080/",
          "height": 333
        },
        "id": "Sb-d9wWC0O4l",
        "outputId": "47ffb897-a45d-46c7-865b-cfd9a9c70cdd"
      },
      "execution_count": null,
      "outputs": [
        {
          "output_type": "display_data",
          "data": {
            "text/plain": [
              "<Figure size 432x288 with 1 Axes>"
            ],
            "image/png": "[encoded data removed]"
          },
          "metadata": {
            "needs_background": "light"
          }
        },
        {
          "output_type": "stream",
          "name": "stdout",
          "text": [
            "Value count for RapidCharge:\n",
            "Yes    98\n",
            "Name: RapidCharge, dtype: int64\n"
          ]
        }
      ]
    },
    {
      "cell_type": "markdown",
      "source": [
        "Every single electric car in the dataset (apart from the 5 obs removed above) has RapidCharge which makes this attribute redundant "
      ],
      "metadata": {
        "id": "KauCewmA0oH0"
      }
    },
    {
      "cell_type": "code",
      "source": [
        "# Using a pie chart to visualise PowerTrain\n",
        "labels = ['AWD','FWD','RWD']\n",
        "\n",
        "sizes = [Electric_cars['PowerTrain'].value_counts()[0],\n",
        "         Electric_cars['PowerTrain'].value_counts()[1],\n",
        "         Electric_cars['PowerTrain'].value_counts()[2],\n",
        "        ]\n",
        "explode=[0.1,0,0]\n",
        "fig1, ax1 = plt.subplots()\n",
        "ax1.pie(sizes, labels=labels, autopct='%1.1f%%', shadow=True, explode=explode)\n",
        "ax1.axis('equal')\n",
        "plt.show()"
      ],
      "metadata": {
        "colab": {
          "base_uri": "https://localhost:8080/",
          "height": 248
        },
        "id": "Pn0VLAnvwnII",
        "outputId": "af9bbf7a-e2e7-42d9-9ba5-8fee21aace96"
      },
      "execution_count": null,
      "outputs": [
        {
          "output_type": "display_data",
          "data": {
            "text/plain": [
              "<Figure size 432x288 with 1 Axes>"
            ],
            "image/png": "[encoded data removed]"
          },
          "metadata": {}
        }
      ]
    },
    {
      "cell_type": "markdown",
      "source": [
        "AWD is the most popular powertrain type. Based on some understanding of cars, AWD/FWD are typically better than RWD because of greater traction. "
      ],
      "metadata": {
        "id": "mJIaKNtpxZEY"
      }
    },
    {
      "cell_type": "code",
      "source": [
        "# Using Matplotlib to plot a bar chart for visualising the different observations in attribute PlugType\n",
        "Electric_cars['PlugType'].value_counts().plot(kind='bar')\n",
        "# Add count over the top of bar\n",
        "ax=Electric_cars['PlugType'].value_counts().plot.bar(width=.5)\n",
        "for i, v in Electric_cars['PlugType'].value_counts().reset_index().iterrows():\n",
        "    ax.text(i, v.PlugType + 0.5, v.PlugType, color='red')\n",
        "    \n",
        "plt.xticks(rotation=45) # Rotating xticks by 45 degrees\n",
        "plt.xlabel('PlugType')\n",
        "plt.ylabel('Count')\n",
        "plt.title('Bar Chart showing the distributions of PlugType')\n",
        "plt.show()"
      ],
      "metadata": {
        "colab": {
          "base_uri": "https://localhost:8080/",
          "height": 353
        },
        "id": "NvYBAOPz1BSF",
        "outputId": "3470ba13-ce88-48bb-9ef2-28c51fe383ea"
      },
      "execution_count": null,
      "outputs": [
        {
          "output_type": "display_data",
          "data": {
            "text/plain": [
              "<Figure size 432x288 with 1 Axes>"
            ],
            "image/png": "[encoded data removed]"
          },
          "metadata": {
            "needs_background": "light"
          }
        }
      ]
    },
    {
      "cell_type": "markdown",
      "source": [
        "The vast majority of cars in the dataset have a plug type of Type 2 CCS - this attribute could be worth exploring further with respect to price"
      ],
      "metadata": {
        "id": "JQbL6o7J13_v"
      }
    },
    {
      "cell_type": "code",
      "source": [
        "#Plotting the attribute BodyStyle using seaborn on the y axis\n",
        "p = sns.countplot(data=Electric_cars,\n",
        "                  y = 'BodyStyle')"
      ],
      "metadata": {
        "colab": {
          "base_uri": "https://localhost:8080/",
          "height": 279
        },
        "id": "AQxxpZ6x2Rlz",
        "outputId": "6b39a692-e0d8-44d6-b8f4-2e2f9609429b"
      },
      "execution_count": null,
      "outputs": [
        {
          "output_type": "display_data",
          "data": {
            "text/plain": [
              "<Figure size 432x288 with 1 Axes>"
            ],
            "image/png": "[encoded data removed]"
          },
          "metadata": {
            "needs_background": "light"
          }
        }
      ]
    },
    {
      "cell_type": "markdown",
      "source": [
        "Hatchbacks and SUVs are especially prominent in the dataset"
      ],
      "metadata": {
        "id": "a4WiP4Kk3SKC"
      }
    },
    {
      "cell_type": "code",
      "source": [
        "sns.barplot(x = Electric_cars['Segment'].value_counts().index, \n",
        "            y = Electric_cars['Segment'].value_counts().values)\n",
        "plt.title (\"Comparing the Frequency of Segments\")\n",
        "plt.ylabel (\"Count\")\n",
        "plt.show()\n",
        "print(\"Value count for Segments:\\n{}\".format(Electric_cars['Segment'].value_counts()))"
      ],
      "metadata": {
        "colab": {
          "base_uri": "https://localhost:8080/",
          "height": 455
        },
        "id": "xbmxgnGSvdaa",
        "outputId": "0326b14a-5d65-4b3c-bab1-53df31f75632"
      },
      "execution_count": null,
      "outputs": [
        {
          "output_type": "display_data",
          "data": {
            "text/plain": [
              "<Figure size 432x288 with 1 Axes>"
            ],
            "image/png": "[encoded data removed]"
          },
          "metadata": {
            "needs_background": "light"
          }
        },
        {
          "output_type": "stream",
          "name": "stdout",
          "text": [
            "Value count for Segments:\n",
            "C    30\n",
            "B    22\n",
            "D    15\n",
            "F    12\n",
            "E    10\n",
            "N     5\n",
            "A     3\n",
            "S     1\n",
            "Name: Segment, dtype: int64\n"
          ]
        }
      ]
    },
    {
      "cell_type": "markdown",
      "source": [
        "While it seems obvious that electric cars of the F: luxury and S: sports type would yield higher prices, I chose to include the Segment attribute in analysis regardless. There might be an interesting finding pertaining to this attribute at the end of the notebook. \n",
        "We see here that about half the dataset is comprised of B: small and C: medium type cars. "
      ],
      "metadata": {
        "id": "C0iN3I20vwwJ"
      }
    },
    {
      "cell_type": "markdown",
      "source": [
        "We move on to the numerical attributes, which can be automatically plugged into a correlation map with price. However, it is still useful for us to understand the distribution of data points in each attribute through the use of histograms and density plots."
      ],
      "metadata": {
        "id": "7X02McWkTurd"
      }
    },
    {
      "cell_type": "code",
      "source": [
        "sns.displot(Electric_cars, x=Electric_cars['TopSpeed_KmH'], kde=True) \n",
        "sns.displot(Electric_cars, x=Electric_cars['TopSpeed_KmH'], binwidth = 50, kind=\"hist\")\n",
        "np.min(Electric_cars['TopSpeed_KmH'])"
      ],
      "metadata": {
        "colab": {
          "base_uri": "https://localhost:8080/",
          "height": 738
        },
        "id": "hIvYnuEcxpLD",
        "outputId": "79f3e9d6-b36d-43bd-cbd6-3028feed3787"
      },
      "execution_count": null,
      "outputs": [
        {
          "output_type": "execute_result",
          "data": {
            "text/plain": [
              "123"
            ]
          },
          "metadata": {},
          "execution_count": 38
        },
        {
          "output_type": "display_data",
          "data": {
            "text/plain": [
              "<Figure size 360x360 with 1 Axes>"
            ],
            "image/png": "[encoded data removed]"
          },
          "metadata": {
            "needs_background": "light"
          }
        },
        {
          "output_type": "display_data",
          "data": {
            "text/plain": [
              "<Figure size 360x360 with 1 Axes>"
            ],
            "image/png": "[encoded data removed]"
          },
          "metadata": {
            "needs_background": "light"
          }
        }
      ]
    },
    {
      "cell_type": "markdown",
      "source": [
        "The histograms (one with KDE curve) highlight that the majority of electric cars in the dataset have a Top Speed of between 125 - 175 KmH. AccelSec is likely heavily related to Top Speed so it won't be visualised."
      ],
      "metadata": {
        "id": "HyAMJZaezZAU"
      }
    },
    {
      "cell_type": "code",
      "source": [
        "# histogram with KDE curve together\n",
        "sns.displot(Electric_cars['Range_KM'], kde = True, binwidth = 50, color = \"red\")"
      ],
      "metadata": {
        "id": "85WNuAGzScwF",
        "colab": {
          "base_uri": "https://localhost:8080/",
          "height": 386
        },
        "outputId": "4ee23564-f04e-4804-e8e7-5e93488ab457"
      },
      "execution_count": null,
      "outputs": [
        {
          "output_type": "execute_result",
          "data": {
            "text/plain": [
              "<seaborn.axisgrid.FacetGrid at 0x7fce4c418a10>"
            ]
          },
          "metadata": {},
          "execution_count": 39
        },
        {
          "output_type": "display_data",
          "data": {
            "text/plain": [
              "<Figure size 360x360 with 1 Axes>"
            ],
            "image/png": "[encoded data removed]"
          },
          "metadata": {
            "needs_background": "light"
          }
        }
      ]
    },
    {
      "cell_type": "markdown",
      "source": [
        "Strong variability shown in the density plot for Range_KM - the frequency is concentrated at the 300 - 350 & 350 - 400 Range_KM bins. After about 450km in range, the frequency of electric cars drops drastically."
      ],
      "metadata": {
        "id": "jnEHiB_PupPe"
      }
    },
    {
      "cell_type": "code",
      "source": [
        "sns.displot(Electric_cars, x=Electric_cars['Efficiency_WhKm'], kind=\"kde\", fill=True)"
      ],
      "metadata": {
        "colab": {
          "base_uri": "https://localhost:8080/",
          "height": 386
        },
        "id": "HwUicQM3Y1B5",
        "outputId": "5a8cd562-de2a-469f-be97-fee03775fdb3"
      },
      "execution_count": null,
      "outputs": [
        {
          "output_type": "execute_result",
          "data": {
            "text/plain": [
              "<seaborn.axisgrid.FacetGrid at 0x7fce4bfe5c90>"
            ]
          },
          "metadata": {},
          "execution_count": 40
        },
        {
          "output_type": "display_data",
          "data": {
            "text/plain": [
              "<Figure size 360x360 with 1 Axes>"
            ],
            "image/png": "[encoded data removed]"
          },
          "metadata": {
            "needs_background": "light"
          }
        }
      ]
    },
    {
      "cell_type": "markdown",
      "source": [
        "Again fairly strong variability with Efficiency_WhKm. Vast majority of cars are concentrated within the Efficiency range of 150 - 200 WhKm"
      ],
      "metadata": {
        "id": "qvTvmfNzZO76"
      }
    },
    {
      "cell_type": "code",
      "source": [
        "sns.displot(Electric_cars['FastCharge_KmH'], kde = True, binwidth = 50, color = \"red\")"
      ],
      "metadata": {
        "colab": {
          "base_uri": "https://localhost:8080/",
          "height": 386
        },
        "id": "Ha4cRzKU2_oy",
        "outputId": "d4d77ec9-1d24-4490-d5e5-ccf597e6e89f"
      },
      "execution_count": null,
      "outputs": [
        {
          "output_type": "execute_result",
          "data": {
            "text/plain": [
              "<seaborn.axisgrid.FacetGrid at 0x7fce4beef190>"
            ]
          },
          "metadata": {},
          "execution_count": 41
        },
        {
          "output_type": "display_data",
          "data": {
            "text/plain": [
              "<Figure size 360x360 with 1 Axes>"
            ],
            "image/png": "[encoded data removed]"
          },
          "metadata": {
            "needs_background": "light"
          }
        }
      ]
    },
    {
      "cell_type": "markdown",
      "source": [
        "The FastCharge_KmH attribute (which measures how much range is added to the car after fast charging) has its data points more evenly distributed than the numeric attributes visualised above."
      ],
      "metadata": {
        "id": "VtNYDtJS3XJT"
      }
    },
    {
      "cell_type": "markdown",
      "source": [
        "# Data Preparation - Categorical Attributes to Binary Values"
      ],
      "metadata": {
        "id": "Ft5BJPS235QF"
      }
    },
    {
      "cell_type": "markdown",
      "source": [
        "In order to fit the categorical attributes into the regression analysis and test for statistical significance, I had to convert some key observations into binary values (i.e 1 and 0):\n",
        "- PowerTrain = \"AWD\"--> 1, otherwise 0\n",
        "- PlugType = \"Type 2 CCS\" --> 1, otherwise 0\n",
        "- BodyStyle = \"Hatchback\" or \"SUV\" --> 1, otherwise 0\n",
        "- Segment = \"E\" or \"F\" or \"S\" (Upper class segments) --> 1, otherwise 0"
      ],
      "metadata": {
        "id": "FPVQNi3x48Dq"
      }
    },
    {
      "cell_type": "code",
      "source": [
        "ones = ['AWD']\n",
        "zeros = ['FWD', 'RWD']\n",
        "try:\n",
        "    Electric_cars['PowerTrain'] = Electric_cars['PowerTrain'].isin(ones).astype(\"int64\") # running the function more than once just converts the whole columns to 0s\n",
        "except Exception as e:\n",
        "    print(\"Something needs fixing: {}\".format(e)) # try and except block in case something goes wrong\n",
        "print(Electric_cars['PowerTrain'].head(30)) # printing to see if the code logic works"
      ],
      "metadata": {
        "colab": {
          "base_uri": "https://localhost:8080/"
        },
        "id": "6USbHSOx5Ps9",
        "outputId": "b4fad204-1199-4614-9337-e7e5ae7695d4"
      },
      "execution_count": null,
      "outputs": [
        {
          "output_type": "stream",
          "name": "stdout",
          "text": [
            "0     1\n",
            "1     0\n",
            "2     1\n",
            "3     0\n",
            "4     0\n",
            "5     1\n",
            "6     0\n",
            "7     0\n",
            "8     0\n",
            "9     1\n",
            "10    1\n",
            "11    0\n",
            "12    0\n",
            "13    0\n",
            "14    0\n",
            "15    0\n",
            "16    1\n",
            "17    0\n",
            "18    0\n",
            "19    0\n",
            "20    0\n",
            "21    1\n",
            "22    0\n",
            "23    1\n",
            "24    1\n",
            "25    0\n",
            "26    0\n",
            "27    1\n",
            "28    0\n",
            "29    0\n",
            "Name: PowerTrain, dtype: int64\n"
          ]
        }
      ]
    },
    {
      "cell_type": "code",
      "source": [
        "Electric_cars['PlugType'] = (Electric_cars['PlugType'] == \"Type 2 CCS\").astype(\"int64\")"
      ],
      "metadata": {
        "id": "85mdXhHOATny"
      },
      "execution_count": null,
      "outputs": []
    },
    {
      "cell_type": "code",
      "source": [
        "Electric_cars['BodyStyle'] = (Electric_cars['BodyStyle'].isin((\"Hatchback\", \"SUV\"))).astype(\"int64\")"
      ],
      "metadata": {
        "id": "hN9lP3uEDMDz"
      },
      "execution_count": null,
      "outputs": []
    },
    {
      "cell_type": "code",
      "source": [
        "Electric_cars['Segment'] = Electric_cars['Segment'].isin((\"E\", \"F\", \"S\")).astype(\"int64\")"
      ],
      "metadata": {
        "id": "Ndqy5osCE2X7"
      },
      "execution_count": null,
      "outputs": []
    },
    {
      "cell_type": "code",
      "source": [
        "print(Electric_cars['Segment'].head(30)) # Checking the code logic"
      ],
      "metadata": {
        "colab": {
          "base_uri": "https://localhost:8080/"
        },
        "id": "U3QB2sogFRuW",
        "outputId": "7e0635ba-417a-4612-d2ea-356f45404d4b"
      },
      "execution_count": null,
      "outputs": [
        {
          "output_type": "stream",
          "name": "stdout",
          "text": [
            "0     0\n",
            "1     0\n",
            "2     0\n",
            "3     0\n",
            "4     0\n",
            "5     1\n",
            "6     0\n",
            "7     0\n",
            "8     0\n",
            "9     0\n",
            "10    0\n",
            "11    0\n",
            "12    0\n",
            "13    0\n",
            "14    0\n",
            "15    0\n",
            "16    1\n",
            "17    0\n",
            "18    0\n",
            "19    0\n",
            "20    0\n",
            "21    0\n",
            "22    0\n",
            "23    1\n",
            "24    0\n",
            "25    0\n",
            "26    0\n",
            "27    0\n",
            "28    0\n",
            "29    0\n",
            "Name: Segment, dtype: int64\n"
          ]
        }
      ]
    },
    {
      "cell_type": "code",
      "source": [
        "Electric_cars.info()"
      ],
      "metadata": {
        "colab": {
          "base_uri": "https://localhost:8080/"
        },
        "id": "nBd85t59GnCP",
        "outputId": "1ef384f4-1a5c-4365-8bf6-6c01dfa9cdae"
      },
      "execution_count": null,
      "outputs": [
        {
          "output_type": "stream",
          "name": "stdout",
          "text": [
            "<class 'pandas.core.frame.DataFrame'>\n",
            "Int64Index: 98 entries, 0 to 102\n",
            "Data columns (total 14 columns):\n",
            " #   Column           Non-Null Count  Dtype  \n",
            "---  ------           --------------  -----  \n",
            " 0   Brand            98 non-null     object \n",
            " 1   Model            98 non-null     object \n",
            " 2   AccelSec         98 non-null     float64\n",
            " 3   TopSpeed_KmH     98 non-null     int64  \n",
            " 4   Range_KM         98 non-null     int64  \n",
            " 5   Efficiency_WhKm  98 non-null     int64  \n",
            " 6   FastCharge_KmH   98 non-null     int64  \n",
            " 7   RapidCharge      98 non-null     object \n",
            " 8   PowerTrain       98 non-null     int64  \n",
            " 9   PlugType         98 non-null     int64  \n",
            " 10  BodyStyle        98 non-null     int64  \n",
            " 11  Segment          98 non-null     int64  \n",
            " 12  Seats            98 non-null     int64  \n",
            " 13  PriceEuro        98 non-null     int64  \n",
            "dtypes: float64(1), int64(10), object(3)\n",
            "memory usage: 13.5+ KB\n"
          ]
        }
      ]
    },
    {
      "cell_type": "markdown",
      "source": [
        "Key observations in the categorical attributes have now been converted to binary values and are ready for further analysis"
      ],
      "metadata": {
        "id": "wZBBH0MjGaX4"
      }
    },
    {
      "cell_type": "markdown",
      "source": [
        "# Correlation Heatmap"
      ],
      "metadata": {
        "id": "iLSlXOkyp0PH"
      }
    },
    {
      "cell_type": "code",
      "source": [
        "# Organising attributes into a correlation heatmap\n",
        "corr = Electric_cars.corr()\n",
        "plt.figure(figsize = (10, 8))\n",
        "sns.heatmap(corr, annot=True, cmap = 'YlGnBu')"
      ],
      "metadata": {
        "colab": {
          "base_uri": "https://localhost:8080/",
          "height": 580
        },
        "id": "1wXqdO0Xp4O_",
        "outputId": "836569a0-fbd2-4446-d2c4-6a6ed02b4c69"
      },
      "execution_count": null,
      "outputs": [
        {
          "output_type": "execute_result",
          "data": {
            "text/plain": [
              "<matplotlib.axes._subplots.AxesSubplot at 0x7fce4950e050>"
            ]
          },
          "metadata": {},
          "execution_count": 48
        },
        {
          "output_type": "display_data",
          "data": {
            "text/plain": [
              "<Figure size 720x576 with 2 Axes>"
            ],
            "image/png": "[encoded data removed]"
          },
          "metadata": {
            "needs_background": "light"
          }
        }
      ]
    },
    {
      "cell_type": "markdown",
      "source": [
        "This is a necessary step before conducting linear regression analysis to avoid the pitfalls of multicollinearity. As a general rule, an absolute correlation coefficient of > 0.7 (high correlation) among 2 or more predictors indicates the presence of multicollinearity."
      ],
      "metadata": {
        "id": "FfpMbv72qhhe"
      }
    },
    {
      "cell_type": "markdown",
      "source": [
        "The correlation map reveals some interesting information:\n",
        "- Of all the variables - TopSpeed_KmH and upper class Segments (**E, F and S**) have the highest respective correlations with PriceEuro of 0.82 and 0.76 respectively\n",
        "- TopSpeed_KmH has high correlation with Range_KM, FastCharge_KmH and high *negative* correlation with AccelSec\n",
        "- Efficiency_WhKm has a correlation with PriceEuro of 0.38, and is not heavily correlated with the other attributes\n",
        "- **AWD** PowerTrain has a correlation with PriceEuro of 0.66, and is not heavily correlated with the other attributes with the exception of TopSpeed_KmH (sitting at 0.69)\n",
        "- **Hatchback** or **SUV** BodyStyle(s) has a negative correlation with PriceEuro of -0.53\n",
        "- **Type 2 CCS** PlugType and **Seats** have a negligible correlation with PriceEuro\n",
        "\n",
        "*TopSpeed_KmH*, *AccelSec*, *Range_KM* and *FastCharge_KmH* all have absolute correlation values of > |0.6| in relation to PriceEuro which indicates that they appear to be **strong contributory drivers** of price. The problem is these 4 attributes are are all highly correlated with each other and including all of them in the regression analysis will undermine their respective statistical significances as predictors. Thus, only *TopSpeed_KmH* and *Range_KM* have been chosen as inputs into the initial model, and the other attributes in another.\n",
        "\n",
        "Alongside *TopSpeed_KmH* and *Range_KM*, the other inputs chosen include: *Efficiency_WhKm*, **AWD** *PowerTrain*, **Hatchback or SUV** *BodyStyles* and **E/F/S** *Segments*.\n",
        "\n",
        "\n",
        "\n"
      ],
      "metadata": {
        "id": "aYHaNY5BrW3i"
      }
    },
    {
      "cell_type": "code",
      "source": [
        "# Scatter plot demonstrating high (negative) correlation\n",
        "plt.scatter(Electric_cars['TopSpeed_KmH'], Electric_cars['AccelSec'], s = 50, marker='.')\n",
        "plt.xlabel(\"TopSpeed_KmH\")\n",
        "plt.ylabel(\"AccelSec\")\n",
        "plt.title(\"Scatter Plot - TopSpeed_KmH vs AccelSec\")"
      ],
      "metadata": {
        "colab": {
          "base_uri": "https://localhost:8080/",
          "height": 313
        },
        "id": "o5rKpGyE2Nfb",
        "outputId": "f7d2945b-4cac-4a64-fb96-485a36e2aba8"
      },
      "execution_count": null,
      "outputs": [
        {
          "output_type": "execute_result",
          "data": {
            "text/plain": [
              "Text(0.5, 1.0, 'Scatter Plot - TopSpeed_KmH vs AccelSec')"
            ]
          },
          "metadata": {},
          "execution_count": 49
        },
        {
          "output_type": "display_data",
          "data": {
            "text/plain": [
              "<Figure size 432x288 with 1 Axes>"
            ],
            "image/png": "[encoded data removed]"
          },
          "metadata": {
            "needs_background": "light"
          }
        }
      ]
    },
    {
      "cell_type": "markdown",
      "source": [
        "# Linear Regression Analysis: OLS"
      ],
      "metadata": {
        "id": "gVGJt1r3w7-L"
      }
    },
    {
      "cell_type": "markdown",
      "source": [
        "First we need to import all the necessary libraries for analysis and perhaps check some of the input columns."
      ],
      "metadata": {
        "id": "fTbETp06YSHF"
      }
    },
    {
      "cell_type": "code",
      "source": [
        "from sklearn import linear_model\n",
        "from sklearn.linear_model import LinearRegression"
      ],
      "metadata": {
        "id": "XSgvus5trbcT"
      },
      "execution_count": null,
      "outputs": []
    },
    {
      "cell_type": "code",
      "source": [
        "%matplotlib inline"
      ],
      "metadata": {
        "id": "UBvKotBzYB3M"
      },
      "execution_count": null,
      "outputs": []
    },
    {
      "cell_type": "code",
      "source": [
        "sns.displot(Electric_cars, x=Electric_cars['PowerTrain'], kde=True) "
      ],
      "metadata": {
        "colab": {
          "base_uri": "https://localhost:8080/",
          "height": 386
        },
        "id": "RVBYyYAbYsav",
        "outputId": "5e1277a1-95ae-4da9-a91e-f2fdfb1d3dcb"
      },
      "execution_count": null,
      "outputs": [
        {
          "output_type": "execute_result",
          "data": {
            "text/plain": [
              "<seaborn.axisgrid.FacetGrid at 0x7fce4950e590>"
            ]
          },
          "metadata": {},
          "execution_count": 52
        },
        {
          "output_type": "display_data",
          "data": {
            "text/plain": [
              "<Figure size 360x360 with 1 Axes>"
            ],
            "image/png": "[encoded data removed]"
          },
          "metadata": {
            "needs_background": "light"
          }
        }
      ]
    },
    {
      "cell_type": "code",
      "source": [
        "sns.displot(Electric_cars, x=Electric_cars['BodyStyle'], kind = \"hist\") "
      ],
      "metadata": {
        "colab": {
          "base_uri": "https://localhost:8080/",
          "height": 386
        },
        "id": "eLS-b7Q-ZY9y",
        "outputId": "1618dc18-398c-4468-ce33-5aec5ac208d8"
      },
      "execution_count": null,
      "outputs": [
        {
          "output_type": "execute_result",
          "data": {
            "text/plain": [
              "<seaborn.axisgrid.FacetGrid at 0x7fce46d29290>"
            ]
          },
          "metadata": {},
          "execution_count": 53
        },
        {
          "output_type": "display_data",
          "data": {
            "text/plain": [
              "<Figure size 360x360 with 1 Axes>"
            ],
            "image/png": "[encoded data removed]"
          },
          "metadata": {
            "needs_background": "light"
          }
        }
      ]
    },
    {
      "cell_type": "markdown",
      "source": [
        "I decided to use the library statsmodels for a detailed summary of the multivariate linear regression. This regression model is based on Ordinary Least Squares (OLS)."
      ],
      "metadata": {
        "id": "1UKm1IK4jrY0"
      }
    },
    {
      "cell_type": "code",
      "source": [
        "pip install statsmodels"
      ],
      "metadata": {
        "colab": {
          "base_uri": "https://localhost:8080/"
        },
        "id": "aDsY-SCy9HZf",
        "outputId": "e98cb007-b794-4fec-f4f8-b147a1c079e7"
      },
      "execution_count": null,
      "outputs": [
        {
          "output_type": "stream",
          "name": "stdout",
          "text": [
            "Looking in indexes: https://pypi.org/simple, https://us-python.pkg.dev/colab-wheels/public/simple/\n",
            "Requirement already satisfied: statsmodels in /usr/local/lib/python3.7/dist-packages (0.10.2)\n",
            "Requirement already satisfied: scipy>=0.18 in /usr/local/lib/python3.7/dist-packages (from statsmodels) (1.4.1)\n",
            "Requirement already satisfied: patsy>=0.4.0 in /usr/local/lib/python3.7/dist-packages (from statsmodels) (0.5.2)\n",
            "Requirement already satisfied: numpy>=1.11 in /usr/local/lib/python3.7/dist-packages (from statsmodels) (1.21.6)\n",
            "Requirement already satisfied: pandas>=0.19 in /usr/local/lib/python3.7/dist-packages (from statsmodels) (1.3.5)\n",
            "Requirement already satisfied: python-dateutil>=2.7.3 in /usr/local/lib/python3.7/dist-packages (from pandas>=0.19->statsmodels) (2.8.2)\n",
            "Requirement already satisfied: pytz>=2017.3 in /usr/local/lib/python3.7/dist-packages (from pandas>=0.19->statsmodels) (2022.1)\n",
            "Requirement already satisfied: six in /usr/local/lib/python3.7/dist-packages (from patsy>=0.4.0->statsmodels) (1.15.0)\n"
          ]
        }
      ]
    },
    {
      "cell_type": "code",
      "source": [
        "import numpy as np\n",
        "import statsmodels.api as sm"
      ],
      "metadata": {
        "colab": {
          "base_uri": "https://localhost:8080/"
        },
        "id": "-VvZoA9P8FGp",
        "outputId": "b7c502ca-9a3e-417a-833b-88bd3a4d36f3"
      },
      "execution_count": null,
      "outputs": [
        {
          "output_type": "stream",
          "name": "stderr",
          "text": [
            "/usr/local/lib/python3.7/dist-packages/statsmodels/tools/_testing.py:19: FutureWarning: pandas.util.testing is deprecated. Use the functions in the public API at pandas.testing instead.\n",
            "  import pandas.util.testing as tm\n"
          ]
        }
      ]
    },
    {
      "cell_type": "code",
      "source": [
        "# Putting all the input attributes into the x variable\n",
        "x = Electric_cars[['TopSpeed_KmH', 'Range_KM', 'Efficiency_WhKm', 'PowerTrain', 'BodyStyle', 'Segment']]\n",
        "\n",
        "# Putting the test data in the y variable/the dependent variable\n",
        "y = Electric_cars['PriceEuro']\n",
        "x, y = np.array(x), np.array(y)"
      ],
      "metadata": {
        "id": "Yvst5vog1Z_5"
      },
      "execution_count": null,
      "outputs": []
    },
    {
      "cell_type": "code",
      "source": [
        "# Adding a constant to calculate the intercept, as this isn't provided by default\n",
        "x = sm.add_constant(x)"
      ],
      "metadata": {
        "id": "bYGejgm49stm"
      },
      "execution_count": null,
      "outputs": []
    },
    {
      "cell_type": "code",
      "source": [
        "# creating a model and fitting it with the above attributes\n",
        "model = sm.OLS(y, x)\n",
        "results = model.fit()"
      ],
      "metadata": {
        "id": "rMVyiPkl9uBH"
      },
      "execution_count": null,
      "outputs": []
    },
    {
      "cell_type": "code",
      "source": [
        "print(results.summary(xname = ['Intercept', 'TopSpeed_KmH', 'Range_KM', 'Efficiency_WhKm', 'PowerTrain', 'BodyStyle', 'Segment']))"
      ],
      "metadata": {
        "colab": {
          "base_uri": "https://localhost:8080/"
        },
        "id": "EjtHfSd69xE6",
        "outputId": "e22ae516-2f00-4431-a4e7-9a80cb0e0386"
      },
      "execution_count": null,
      "outputs": [
        {
          "output_type": "stream",
          "name": "stdout",
          "text": [
            "                            OLS Regression Results                            \n",
            "==============================================================================\n",
            "Dep. Variable:                      y   R-squared:                       0.811\n",
            "Model:                            OLS   Adj. R-squared:                  0.799\n",
            "Method:                 Least Squares   F-statistic:                     65.19\n",
            "Date:                Thu, 23 Jun 2022   Prob (F-statistic):           8.27e-31\n",
            "Time:                        06:16:47   Log-Likelihood:                -1080.2\n",
            "No. Observations:                  98   AIC:                             2174.\n",
            "Df Residuals:                      91   BIC:                             2193.\n",
            "Df Model:                           6                                         \n",
            "Covariance Type:            nonrobust                                         \n",
            "===================================================================================\n",
            "                      coef    std err          t      P>|t|      [0.025      0.975]\n",
            "-----------------------------------------------------------------------------------\n",
            "Intercept       -7461.0789   1.58e+04     -0.471      0.639   -3.89e+04     2.4e+04\n",
            "TopSpeed_KmH      254.2686     70.188      3.623      0.000     114.849     393.688\n",
            "Range_KM           53.5688     20.000      2.678      0.009      13.841      93.296\n",
            "Efficiency_WhKm     0.6960     61.069      0.011      0.991    -120.609     122.002\n",
            "PowerTrain       2541.3498   4849.560      0.524      0.602   -7091.705    1.22e+04\n",
            "BodyStyle       -1.229e+04   4234.861     -2.901      0.005   -2.07e+04   -3873.422\n",
            "Segment          3.375e+04   5184.636      6.510      0.000    2.35e+04     4.4e+04\n",
            "==============================================================================\n",
            "Omnibus:                       35.222   Durbin-Watson:                   2.142\n",
            "Prob(Omnibus):                  0.000   Jarque-Bera (JB):              105.895\n",
            "Skew:                           1.198   Prob(JB):                     1.01e-23\n",
            "Kurtosis:                       7.494   Cond. No.                     4.71e+03\n",
            "==============================================================================\n",
            "\n",
            "Warnings:\n",
            "[1] Standard Errors assume that the covariance matrix of the errors is correctly specified.\n",
            "[2] The condition number is large, 4.71e+03. This might indicate that there are\n",
            "strong multicollinearity or other numerical problems.\n"
          ]
        }
      ]
    },
    {
      "cell_type": "markdown",
      "source": [
        "Elements which instantly stand out the most to me from my interpretation of the OLS Regression:\n",
        "- The R-squared is 0.811, which is a measure of how much *PriceEuro* is explained by changes in the attributes. In percentage terms, 0.811 would mean our model explains 81.1% of the change in the *PriceEuro* variable - a high figure.\n",
        "- P>|t| measures the p-value - a lower p-value indicates that the attribute is likely not to be in the model by chance i.e statistically significant. Using a confidence interval of 0.95 (95%) and a p-value threshold of 0.05, I can see that neither *Efficiency_WhKM* nor **AWD** *PowerTrain* is statistically significant. The Intercept's p-value suggests I can't really trust it either. "
      ],
      "metadata": {
        "id": "PoMQ8wLNmjsm"
      }
    },
    {
      "cell_type": "markdown",
      "source": [
        "I have decided to remove *Efficiency_WhKm* and **AWD** *PowerTrain* attributes to see whether this has any effect on the model:"
      ],
      "metadata": {
        "id": "2b_L4_lvoxJz"
      }
    },
    {
      "cell_type": "code",
      "source": [
        "# Repeating the above but without these 2 attributes\n",
        "x1 = Electric_cars[['TopSpeed_KmH', 'Range_KM', 'BodyStyle', 'Segment']]\n",
        "\n",
        "y1 = Electric_cars['PriceEuro']\n",
        "x1, y1 = np.array(x1), np.array(y1)\n",
        "\n",
        "x1 = sm.add_constant(x1)\n",
        "\n",
        "model1 = sm.OLS(y1, x1)\n",
        "results1 = model1.fit()\n",
        "\n",
        "print(results1.summary(xname = ['Intercept', 'TopSpeed_KmH', 'Range_KM', 'BodyStyle', 'Segment']))"
      ],
      "metadata": {
        "colab": {
          "base_uri": "https://localhost:8080/"
        },
        "id": "pQFjwdHfozPn",
        "outputId": "dcf25f87-2244-4e91-d8be-2b0c7b603d06"
      },
      "execution_count": null,
      "outputs": [
        {
          "output_type": "stream",
          "name": "stdout",
          "text": [
            "                            OLS Regression Results                            \n",
            "==============================================================================\n",
            "Dep. Variable:                      y   R-squared:                       0.811\n",
            "Model:                            OLS   Adj. R-squared:                  0.802\n",
            "Method:                 Least Squares   F-statistic:                     99.53\n",
            "Date:                Thu, 23 Jun 2022   Prob (F-statistic):           9.58e-33\n",
            "Time:                        06:16:59   Log-Likelihood:                -1080.4\n",
            "No. Observations:                  98   AIC:                             2171.\n",
            "Df Residuals:                      93   BIC:                             2184.\n",
            "Df Model:                           4                                         \n",
            "Covariance Type:            nonrobust                                         \n",
            "================================================================================\n",
            "                   coef    std err          t      P>|t|      [0.025      0.975]\n",
            "--------------------------------------------------------------------------------\n",
            "Intercept    -9599.9992   1.05e+04     -0.913      0.363   -3.05e+04    1.13e+04\n",
            "TopSpeed_KmH   267.0363     65.268      4.091      0.000     137.426     396.646\n",
            "Range_KM        55.2902     19.484      2.838      0.006      16.600      93.981\n",
            "BodyStyle    -1.202e+04   4161.559     -2.888      0.005   -2.03e+04   -3754.111\n",
            "Segment       3.465e+04   4727.461      7.329      0.000    2.53e+04     4.4e+04\n",
            "==============================================================================\n",
            "Omnibus:                       35.332   Durbin-Watson:                   2.129\n",
            "Prob(Omnibus):                  0.000   Jarque-Bera (JB):              107.125\n",
            "Skew:                           1.198   Prob(JB):                     5.47e-24\n",
            "Kurtosis:                       7.527   Cond. No.                     2.96e+03\n",
            "==============================================================================\n",
            "\n",
            "Warnings:\n",
            "[1] Standard Errors assume that the covariance matrix of the errors is correctly specified.\n",
            "[2] The condition number is large, 2.96e+03. This might indicate that there are\n",
            "strong multicollinearity or other numerical problems.\n"
          ]
        }
      ]
    },
    {
      "cell_type": "markdown",
      "source": [
        "Now you can see that even with the removal of those 2 attributes, the R-squared figure of 0.811 remains exactly the same.\n",
        "All attributes (with the exception of the Intercept) are statistically significant using a confidence interval of 0.95.\n",
        "*Segment*, *TopSpeed_KmH* and *Range_KM* are significant positive contributors towards the price of an electric car. A **Hatchback** or **SUV** *BodyStyle* appears to be a negative contributory factor towards the price. \n",
        "\n",
        "The coefficient of 267.0363 for TopSpeed_KmH (as an example) can be interpreted as: 1 KmH change in the Top Speed is predicted to lead to a 267.0363 change in the Price, before the other attributes/Intercept is taken into account. It is the m in the linear regression formula '**y = mx + b**', where y is the Price and b is the Intercept.\n"
      ],
      "metadata": {
        "id": "nCfH_DvVppAf"
      }
    },
    {
      "cell_type": "code",
      "source": [
        "# Repeating the above but swapping TopSpeed_KmH and Range_KM for AccelSec and FastCharge_KmH\n",
        "x2 = Electric_cars[['AccelSec', 'FastCharge_KmH', 'BodyStyle', 'Segment']]\n",
        "\n",
        "y2 = Electric_cars['PriceEuro']\n",
        "x2, y2 = np.array(x2), np.array(y2)\n",
        "\n",
        "x2 = sm.add_constant(x2)\n",
        "\n",
        "model2 = sm.OLS(y2, x2)\n",
        "results2 = model2.fit()\n",
        "\n",
        "print(results2.summary(xname = ['Intercept', 'AccelSec', 'FastCharge_KmH', 'BodyStyle', 'Segment']))"
      ],
      "metadata": {
        "colab": {
          "base_uri": "https://localhost:8080/"
        },
        "id": "2GDwCb85KA4L",
        "outputId": "6bffed46-3e5e-407e-ebee-700124c2ee1a"
      },
      "execution_count": null,
      "outputs": [
        {
          "output_type": "stream",
          "name": "stdout",
          "text": [
            "                            OLS Regression Results                            \n",
            "==============================================================================\n",
            "Dep. Variable:                      y   R-squared:                       0.760\n",
            "Model:                            OLS   Adj. R-squared:                  0.750\n",
            "Method:                 Least Squares   F-statistic:                     73.58\n",
            "Date:                Thu, 23 Jun 2022   Prob (F-statistic):           5.62e-28\n",
            "Time:                        06:17:16   Log-Likelihood:                -1092.0\n",
            "No. Observations:                  98   AIC:                             2194.\n",
            "Df Residuals:                      93   BIC:                             2207.\n",
            "Df Model:                           4                                         \n",
            "Covariance Type:            nonrobust                                         \n",
            "==================================================================================\n",
            "                     coef    std err          t      P>|t|      [0.025      0.975]\n",
            "----------------------------------------------------------------------------------\n",
            "Intercept       6.208e+04   1.52e+04      4.074      0.000    3.18e+04    9.23e+04\n",
            "AccelSec       -2505.3305   1174.347     -2.133      0.036   -4837.351    -173.310\n",
            "FastCharge_KmH    33.7016     14.454      2.332      0.022       4.998      62.405\n",
            "BodyStyle      -1.639e+04   4697.720     -3.488      0.001   -2.57e+04   -7057.867\n",
            "Segment         4.211e+04   4826.878      8.724      0.000    3.25e+04    5.17e+04\n",
            "==============================================================================\n",
            "Omnibus:                       55.934   Durbin-Watson:                   2.245\n",
            "Prob(Omnibus):                  0.000   Jarque-Bera (JB):              261.147\n",
            "Skew:                           1.820   Prob(JB):                     1.96e-57\n",
            "Kurtosis:                      10.121   Cond. No.                     4.46e+03\n",
            "==============================================================================\n",
            "\n",
            "Warnings:\n",
            "[1] Standard Errors assume that the covariance matrix of the errors is correctly specified.\n",
            "[2] The condition number is large, 4.46e+03. This might indicate that there are\n",
            "strong multicollinearity or other numerical problems.\n"
          ]
        }
      ]
    },
    {
      "cell_type": "markdown",
      "source": [
        "Swapping TopSpeed_KmH and Range_KM for the other 2 highly correlated attributes AccelSec and FastCharge_KmH yields a similarly high R-squared figure of 0.760.\n",
        "All attributes displayed, even the Intercept, are statistically significant using a confidence interval of 0.95.\n",
        "*FastCharge_KmH* is a positive contributor towards the price of an electric car. *AccelSec* is a negative contributor towards the price as the higher the value, the slower the acceleration of the vehicle."
      ],
      "metadata": {
        "id": "ryWu2xqRKyZs"
      }
    },
    {
      "cell_type": "markdown",
      "source": [
        "# Linear Regression Analysis: Train and Test"
      ],
      "metadata": {
        "id": "ORJ10csYsf4f"
      }
    },
    {
      "cell_type": "markdown",
      "source": [
        "For the purposes of the last section, I organise Train and Test dataset splits for our model 1 OLS Regression - which had the high R^2 of 0.811, but all of its coefficients and the intercept were statistically significant. \n",
        "\n",
        "*Train Dataset* : A set of examples used to fit parameters of a model\n",
        "\n",
        "**Test Dataset** : A dataset used to evaluate the final model fit on the training dataset"
      ],
      "metadata": {
        "id": "INfrE7kRZzsC"
      }
    },
    {
      "cell_type": "code",
      "source": [
        "# Importing the library for splitting the data into train and test sets\n",
        "import numpy as np \n",
        "from sklearn.model_selection import train_test_split"
      ],
      "metadata": {
        "id": "XTq_-kij1934"
      },
      "execution_count": null,
      "outputs": []
    },
    {
      "cell_type": "code",
      "source": [
        "# Putting input attributes into the x variable\n",
        "x_traintest = Electric_cars[['TopSpeed_KmH', 'Range_KM', 'BodyStyle', 'Segment']]\n",
        "\n",
        "# Putting the test data in the y variable/the dependent variable\n",
        "y_traintest = Electric_cars['PriceEuro']"
      ],
      "metadata": {
        "id": "c_ZyXuL8u2t7"
      },
      "execution_count": null,
      "outputs": []
    },
    {
      "cell_type": "code",
      "source": [
        "# Splitting data into train and test sets\n",
        "x_train, x_test, y_train, y_test = train_test_split(x_traintest, y_traintest, test_size=0.3333333, random_state=42)"
      ],
      "metadata": {
        "id": "N0X5eLg_2BbD"
      },
      "execution_count": null,
      "outputs": []
    },
    {
      "cell_type": "code",
      "source": [
        "# Training the train data on test data, and then predicting the test values\n",
        "lr = LinearRegression() # Linear Regression is treated as an object\n",
        "lr.fit(x_train, y_train) \n",
        "predictions = lr.predict(x_test) \n",
        "predictions"
      ],
      "metadata": {
        "colab": {
          "base_uri": "https://localhost:8080/"
        },
        "id": "VuSGSj2t2aAf",
        "outputId": "1a907a5a-b409-4407-b932-dd8a9351cd7c"
      },
      "execution_count": null,
      "outputs": [
        {
          "output_type": "execute_result",
          "data": {
            "text/plain": [
              "array([ 89081.12839071, 124368.53532411,  89398.79659255,  26214.08915573,\n",
              "        30879.49056359,  81517.23817883, 117846.93551508,  90168.06169221,\n",
              "        47049.5613902 ,  78012.07335803,  43810.56614389,  44875.69478719,\n",
              "       113499.20230906,  40617.24737848,  21910.99884837,  23836.74555314,\n",
              "        36269.51417246,  45984.4327469 ,  39892.62517748,  31038.32466452,\n",
              "        37038.77927212, 114948.44671107,  31921.78096644,  47138.84718751,\n",
              "        50583.3865979 ,  94020.20933696,  49223.42799321,  46145.33326084,\n",
              "        27210.70307767,  31765.01327855,  39168.00297647,  80430.30487733,\n",
              "        29792.55726209])"
            ]
          },
          "metadata": {},
          "execution_count": 66
        }
      ]
    },
    {
      "cell_type": "code",
      "source": [
        "# Checking the y-test values\n",
        "y_test "
      ],
      "metadata": {
        "colab": {
          "base_uri": "https://localhost:8080/"
        },
        "id": "kJr9446A35AL",
        "outputId": "5f2a3e5e-05c3-4e93-ba31-1078b4ea2493"
      },
      "execution_count": null,
      "outputs": [
        {
          "output_type": "execute_result",
          "data": {
            "text/plain": [
              "63     75351\n",
              "40     79990\n",
              "99     96050\n",
              "18     30000\n",
              "85     34900\n",
              "87     69551\n",
              "65    109302\n",
              "42     81639\n",
              "10     69484\n",
              "0      55480\n",
              "31     38105\n",
              "78     54000\n",
              "47    102945\n",
              "26     33000\n",
              "44     20129\n",
              "4      32997\n",
              "22     35000\n",
              "12     40795\n",
              "95     35575\n",
              "75     34400\n",
              "49     36057\n",
              "72    150000\n",
              "70     41526\n",
              "15     40936\n",
              "39     45000\n",
              "33     75000\n",
              "9      55000\n",
              "84     70631\n",
              "11     29234\n",
              "66     33246\n",
              "98     45000\n",
              "30     67358\n",
              "28     38017\n",
              "Name: PriceEuro, dtype: int64"
            ]
          },
          "metadata": {},
          "execution_count": 67
        }
      ]
    },
    {
      "cell_type": "code",
      "source": [
        "# Drawing the Scatter plot for y_test data and predictions to see the accuracy.\n",
        "plt.scatter(y_test, predictions, s = 50, marker='.')\n",
        "plt.xlabel(\"y_test\")\n",
        "plt.ylabel(\"predictions\")\n",
        "plt.title(\"y_test vs predictions (x_test) scatterplot\")"
      ],
      "metadata": {
        "colab": {
          "base_uri": "https://localhost:8080/",
          "height": 313
        },
        "id": "6j7booOg3j1E",
        "outputId": "4bd122f4-704e-4dd7-e31a-1ba879b95ed3"
      },
      "execution_count": null,
      "outputs": [
        {
          "output_type": "execute_result",
          "data": {
            "text/plain": [
              "Text(0.5, 1.0, 'y_test vs predictions (x_test) scatterplot')"
            ]
          },
          "metadata": {},
          "execution_count": 68
        },
        {
          "output_type": "display_data",
          "data": {
            "text/plain": [
              "<Figure size 432x288 with 1 Axes>"
            ],
            "image/png": "[encoded data removed]"
          },
          "metadata": {
            "needs_background": "light"
          }
        }
      ]
    },
    {
      "cell_type": "code",
      "source": [
        "# Distribution plot for showing the error rate\n",
        "sns.distplot(y_test-predictions) "
      ],
      "metadata": {
        "colab": {
          "base_uri": "https://localhost:8080/",
          "height": 362
        },
        "id": "LIq14Lyy59ak",
        "outputId": "03a10381-eab0-4b0e-b0b1-b55c8037f4a8"
      },
      "execution_count": null,
      "outputs": [
        {
          "output_type": "stream",
          "name": "stderr",
          "text": [
            "/usr/local/lib/python3.7/dist-packages/seaborn/distributions.py:2619: FutureWarning: `distplot` is a deprecated function and will be removed in a future version. Please adapt your code to use either `displot` (a figure-level function with similar flexibility) or `histplot` (an axes-level function for histograms).\n",
            "  warnings.warn(msg, FutureWarning)\n"
          ]
        },
        {
          "output_type": "execute_result",
          "data": {
            "text/plain": [
              "<matplotlib.axes._subplots.AxesSubplot at 0x7fce37627d10>"
            ]
          },
          "metadata": {},
          "execution_count": 69
        },
        {
          "output_type": "display_data",
          "data": {
            "text/plain": [
              "<Figure size 432x288 with 1 Axes>"
            ],
            "image/png": "[encoded data removed]"
          },
          "metadata": {
            "needs_background": "light"
          }
        }
      ]
    },
    {
      "cell_type": "code",
      "source": [
        "# Metrics help in determining the error rate between y_test and predictions\n",
        "from sklearn import metrics "
      ],
      "metadata": {
        "id": "6yGA2EvL6PyV"
      },
      "execution_count": null,
      "outputs": []
    },
    {
      "cell_type": "code",
      "source": [
        "print(\"MAE\", metrics.mean_absolute_error(y_test,predictions))  # Mean Absolute error\n",
        "print(\"MSE\", metrics.mean_squared_error(y_test,predictions)) # Mean Square error\n",
        "print(\"RMSE\", np.sqrt(metrics.mean_squared_error(y_test,predictions))) # Root Mean Square error"
      ],
      "metadata": {
        "colab": {
          "base_uri": "https://localhost:8080/"
        },
        "id": "7w2faH_36RHs",
        "outputId": "3cca7627-f010-4e91-ebd9-78f3fda6e5a0"
      },
      "execution_count": null,
      "outputs": [
        {
          "output_type": "stream",
          "name": "stdout",
          "text": [
            "MAE 10363.458129519844\n",
            "MSE 200861338.3695502\n",
            "RMSE 14172.555816420347\n"
          ]
        }
      ]
    },
    {
      "cell_type": "markdown",
      "source": [
        "Although the model isn't perfect, on average it has been able to predict data points reasonably close to the actual test figures. It could be improved with a substantially greater sample size."
      ],
      "metadata": {
        "id": "t9Nv_IB-Mt8D"
      }
    }
  ]
}